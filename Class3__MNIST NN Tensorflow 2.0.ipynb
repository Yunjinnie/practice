{
 "cells": [
  {
   "cell_type": "code",
   "execution_count": null,
   "metadata": {},
   "outputs": [],
   "source": [
    "# Deep learning : Neural network with many layers"
   ]
  },
  {
   "cell_type": "code",
   "execution_count": 3,
   "metadata": {},
   "outputs": [],
   "source": [
    "import tensorflow as tf\n",
    "import numpy as np"
   ]
  },
  {
   "cell_type": "code",
   "execution_count": 2,
   "metadata": {},
   "outputs": [
    {
     "data": {
      "text/plain": [
       "'2.1.0'"
      ]
     },
     "execution_count": 2,
     "metadata": {},
     "output_type": "execute_result"
    }
   ],
   "source": [
    "tf.__version__"
   ]
  },
  {
   "cell_type": "code",
   "execution_count": 2,
   "metadata": {},
   "outputs": [
    {
     "name": "stdout",
     "output_type": "stream",
     "text": [
      "Downloading data from https://storage.googleapis.com/tensorflow/tf-keras-datasets/mnist.npz\n",
      "11493376/11490434 [==============================] - 28s 2us/step\n"
     ]
    }
   ],
   "source": [
    "mnist = tf.keras.datasets.mnist\n",
    "\n",
    "(x_train_full, y_train_full), (x_test, y_test) = mnist.load_data()\n",
    "x_train_full, x_test = x_train_full / 255.0, x_test / 255.0\n"
   ]
  },
  {
   "cell_type": "code",
   "execution_count": 3,
   "metadata": {
    "scrolled": true
   },
   "outputs": [
    {
     "data": {
      "text/plain": [
       "(60000, 28, 28)"
      ]
     },
     "execution_count": 3,
     "metadata": {},
     "output_type": "execute_result"
    }
   ],
   "source": [
    "x_train_full.shape"
   ]
  },
  {
   "cell_type": "code",
   "execution_count": 4,
   "metadata": {},
   "outputs": [
    {
     "data": {
      "text/plain": [
       "(60000,)"
      ]
     },
     "execution_count": 4,
     "metadata": {},
     "output_type": "execute_result"
    }
   ],
   "source": [
    "y_train_full.shape"
   ]
  },
  {
   "cell_type": "code",
   "execution_count": 5,
   "metadata": {},
   "outputs": [
    {
     "data": {
      "text/plain": [
       "4"
      ]
     },
     "execution_count": 5,
     "metadata": {},
     "output_type": "execute_result"
    }
   ],
   "source": [
    "y_train_full[2]"
   ]
  },
  {
   "cell_type": "code",
   "execution_count": 6,
   "metadata": {},
   "outputs": [],
   "source": [
    "# one-hot encoding\n",
    "y_train_full_onehot = np.zeros((y_train_full.size, y_train_full.max()+1))\n",
    "y_train_full_onehot[np.arange(y_train_full.size),y_train_full] = 1"
   ]
  },
  {
   "cell_type": "code",
   "execution_count": 7,
   "metadata": {},
   "outputs": [
    {
     "data": {
      "text/plain": [
       "5"
      ]
     },
     "execution_count": 7,
     "metadata": {},
     "output_type": "execute_result"
    }
   ],
   "source": [
    "y_train_full[0]"
   ]
  },
  {
   "cell_type": "code",
   "execution_count": 8,
   "metadata": {},
   "outputs": [
    {
     "data": {
      "text/plain": [
       "array([0., 0., 0., 0., 0., 1., 0., 0., 0., 0.])"
      ]
     },
     "execution_count": 8,
     "metadata": {},
     "output_type": "execute_result"
    }
   ],
   "source": [
    "# after one-hot encoding\n",
    "y_train_full_onehot[0,]"
   ]
  },
  {
   "cell_type": "code",
   "execution_count": 10,
   "metadata": {},
   "outputs": [],
   "source": [
    "# among train data -> train & validate\n",
    "x_train, x_valid  = x_train_full[0:50000, :, :], x_train_full[50000:, :, :]"
   ]
  },
  {
   "cell_type": "code",
   "execution_count": 11,
   "metadata": {},
   "outputs": [],
   "source": [
    "y_train, y_valid  = y_train_full_onehot[0:50000, :], y_train_full_onehot[50000:, :]"
   ]
  },
  {
   "cell_type": "markdown",
   "metadata": {},
   "source": [
    "### train(50000), valid(10000), test(10000)"
   ]
  },
  {
   "cell_type": "code",
   "execution_count": 12,
   "metadata": {},
   "outputs": [
    {
     "data": {
      "text/plain": [
       "(50000, 28, 28)"
      ]
     },
     "execution_count": 12,
     "metadata": {},
     "output_type": "execute_result"
    }
   ],
   "source": [
    "x_train.shape"
   ]
  },
  {
   "cell_type": "code",
   "execution_count": 13,
   "metadata": {},
   "outputs": [
    {
     "data": {
      "text/plain": [
       "(50000, 10)"
      ]
     },
     "execution_count": 13,
     "metadata": {},
     "output_type": "execute_result"
    }
   ],
   "source": [
    "y_train.shape"
   ]
  },
  {
   "cell_type": "code",
   "execution_count": 18,
   "metadata": {},
   "outputs": [
    {
     "data": {
      "text/plain": [
       "(28, 28)"
      ]
     },
     "execution_count": 18,
     "metadata": {},
     "output_type": "execute_result"
    }
   ],
   "source": [
    "x_train[0,:,:].shape"
   ]
  },
  {
   "cell_type": "code",
   "execution_count": 19,
   "metadata": {},
   "outputs": [
    {
     "data": {
      "text/plain": [
       "<matplotlib.image.AxesImage at 0x1f86525f8c8>"
      ]
     },
     "execution_count": 19,
     "metadata": {},
     "output_type": "execute_result"
    },
    {
     "data": {
      "image/png": "[encoded data removed]",
      "text/plain": [
       "<Figure size 432x288 with 1 Axes>"
      ]
     },
     "metadata": {
      "needs_background": "light"
     },
     "output_type": "display_data"
    }
   ],
   "source": [
    "import matplotlib.pyplot as plt\n",
    "plt.imshow(x_train[0,:,:]) # 0th picture"
   ]
  },
  {
   "cell_type": "code",
   "execution_count": 20,
   "metadata": {},
   "outputs": [
    {
     "data": {
      "text/plain": [
       "<matplotlib.image.AxesImage at 0x1f87fd5ff88>"
      ]
     },
     "execution_count": 20,
     "metadata": {},
     "output_type": "execute_result"
    },
    {
     "data": {
      "image/png": "[encoded data removed]",
      "text/plain": [
       "<Figure size 432x288 with 1 Axes>"
      ]
     },
     "metadata": {
      "needs_background": "light"
     },
     "output_type": "display_data"
    }
   ],
   "source": [
    "plt.imshow(x_train[1,:,:])"
   ]
  },
  {
   "cell_type": "code",
   "execution_count": 22,
   "metadata": {},
   "outputs": [
    {
     "data": {
      "text/plain": [
       "<matplotlib.image.AxesImage at 0x1f87fdd6148>"
      ]
     },
     "execution_count": 22,
     "metadata": {},
     "output_type": "execute_result"
    },
    {
     "data": {
      "image/png": "[encoded data removed]",
      "text/plain": [
       "<Figure size 432x288 with 1 Axes>"
      ]
     },
     "metadata": {
      "needs_background": "light"
     },
     "output_type": "display_data"
    }
   ],
   "source": [
    "plt.imshow(x_train[2,:,:]) # 2nd"
   ]
  },
  {
   "cell_type": "code",
   "execution_count": 21,
   "metadata": {},
   "outputs": [
    {
     "data": {
      "text/plain": [
       "array([0., 0., 0., 0., 1., 0., 0., 0., 0., 0.])"
      ]
     },
     "execution_count": 21,
     "metadata": {},
     "output_type": "execute_result"
    }
   ],
   "source": [
    "y_train[2,:]"
   ]
  },
  {
   "cell_type": "code",
   "execution_count": 14,
   "metadata": {},
   "outputs": [],
   "source": [
    "model = tf.keras.models.Sequential([\n",
    "  tf.keras.layers.Flatten(input_shape=(28, 28)), # 0th layer\n",
    "  tf.keras.layers.Dense(128, activation='relu'), # 1st layer : 784*128+128\n",
    "  tf.keras.layers.Dense(128, activation='relu'),\n",
    "  tf.keras.layers.Dense(10, activation=\"softmax\")\n",
    "])"
   ]
  },
  {
   "cell_type": "code",
   "execution_count": 15,
   "metadata": {},
   "outputs": [
    {
     "name": "stdout",
     "output_type": "stream",
     "text": [
      "Model: \"sequential\"\n",
      "_________________________________________________________________\n",
      "Layer (type)                 Output Shape              Param #   \n",
      "=================================================================\n",
      "flatten (Flatten)            (None, 784)               0         \n",
      "_________________________________________________________________\n",
      "dense (Dense)                (None, 128)               100480    \n",
      "_________________________________________________________________\n",
      "dense_1 (Dense)              (None, 128)               16512     \n",
      "_________________________________________________________________\n",
      "dense_2 (Dense)              (None, 10)                1290      \n",
      "=================================================================\n",
      "Total params: 118,282\n",
      "Trainable params: 118,282\n",
      "Non-trainable params: 0\n",
      "_________________________________________________________________\n"
     ]
    }
   ],
   "source": [
    "model.summary()"
   ]
  },
  {
   "cell_type": "code",
   "execution_count": 65,
   "metadata": {},
   "outputs": [
    {
     "name": "stdout",
     "output_type": "stream",
     "text": [
      "Model: \"sequential_2\"\n",
      "_________________________________________________________________\n",
      "Layer (type)                 Output Shape              Param #   \n",
      "=================================================================\n",
      "flatten_4 (Flatten)          (None, 784)               0         \n",
      "_________________________________________________________________\n",
      "dense_10 (Dense)             (None, 128)               100480    \n",
      "_________________________________________________________________\n",
      "dense_11 (Dense)             (None, 128)               16512     \n",
      "_________________________________________________________________\n",
      "dense_12 (Dense)             (None, 10)                1290      \n",
      "=================================================================\n",
      "Total params: 118,282\n",
      "Trainable params: 118,282\n",
      "Non-trainable params: 0\n",
      "_________________________________________________________________\n"
     ]
    }
   ],
   "source": [
    "model.summary()"
   ]
  },
  {
   "cell_type": "code",
   "execution_count": 16,
   "metadata": {},
   "outputs": [],
   "source": [
    "# define L\n",
    "model.compile(loss=\"categorical_crossentropy\", optimizer=\"sgd\", metrics=[\"accuracy\"])"
   ]
  },
  {
   "cell_type": "code",
   "execution_count": null,
   "metadata": {},
   "outputs": [],
   "source": [
    "# stochastic gradient descent algorithm \n",
    "# gradient descent처럼 모든 데이터를 다 미분하는 게 아니고 \n",
    "# 한 스텝 옮길 때마다 sigma 중에 몇 개만 뽑아서 여러번 (batch) -> 매 iteration마다 randomly chose\n",
    "# 128개의 batch (for each move, parameter is moving), 500번 정도 해야 모든 데이터를 다 사용\n",
    "# epoch 20 바퀴 돌아라 -> epoch을 올릴 수록 accuracy 증가\n",
    "# validation : train이 잘 되는지 정보를 주기 위함 (val_loss, val_accuracy)\n",
    "# accuray : 정확도 - train accuracy : mostly better and better\n",
    "# 따라서 val_accuracy가 계속 증가하는지를 봐야 함"
   ]
  },
  {
   "cell_type": "code",
   "execution_count": 23,
   "metadata": {},
   "outputs": [
    {
     "name": "stdout",
     "output_type": "stream",
     "text": [
      "Train on 50000 samples, validate on 10000 samples\n",
      "Epoch 1/20\n",
      "50000/50000 [==============================] - 1s 14us/sample - loss: 0.1794 - accuracy: 0.9492 - val_loss: 0.1760 - val_accuracy: 0.9513\n",
      "Epoch 2/20\n",
      "50000/50000 [==============================] - 1s 23us/sample - loss: 0.1747 - accuracy: 0.9498 - val_loss: 0.1729 - val_accuracy: 0.9519\n",
      "Epoch 3/20\n",
      "50000/50000 [==============================] - 3s 60us/sample - loss: 0.1704 - accuracy: 0.9517 - val_loss: 0.1665 - val_accuracy: 0.9537\n",
      "Epoch 4/20\n",
      "50000/50000 [==============================] - 2s 44us/sample - loss: 0.1662 - accuracy: 0.9521 - val_loss: 0.1631 - val_accuracy: 0.9554\n",
      "Epoch 5/20\n",
      "50000/50000 [==============================] - 2s 36us/sample - loss: 0.1621 - accuracy: 0.9538 - val_loss: 0.1613 - val_accuracy: 0.9553\n",
      "Epoch 6/20\n",
      "50000/50000 [==============================] - 1s 29us/sample - loss: 0.1583 - accuracy: 0.9550 - val_loss: 0.1571 - val_accuracy: 0.9565\n",
      "Epoch 7/20\n",
      "50000/50000 [==============================] - 1s 29us/sample - loss: 0.1545 - accuracy: 0.9563 - val_loss: 0.1541 - val_accuracy: 0.9578\n",
      "Epoch 8/20\n",
      "50000/50000 [==============================] - 2s 31us/sample - loss: 0.1511 - accuracy: 0.9566 - val_loss: 0.1518 - val_accuracy: 0.9584\n",
      "Epoch 9/20\n",
      "50000/50000 [==============================] - 2s 32us/sample - loss: 0.1477 - accuracy: 0.9578 - val_loss: 0.1490 - val_accuracy: 0.9586\n",
      "Epoch 10/20\n",
      "50000/50000 [==============================] - 1s 28us/sample - loss: 0.1444 - accuracy: 0.9589 - val_loss: 0.1468 - val_accuracy: 0.9594\n",
      "Epoch 11/20\n",
      "50000/50000 [==============================] - 2s 35us/sample - loss: 0.1412 - accuracy: 0.9598 - val_loss: 0.1450 - val_accuracy: 0.9609\n",
      "Epoch 12/20\n",
      "50000/50000 [==============================] - 1s 30us/sample - loss: 0.1382 - accuracy: 0.9609 - val_loss: 0.1434 - val_accuracy: 0.9606\n",
      "Epoch 13/20\n",
      "50000/50000 [==============================] - 1s 29us/sample - loss: 0.1354 - accuracy: 0.9617 - val_loss: 0.1407 - val_accuracy: 0.9609\n",
      "Epoch 14/20\n",
      "50000/50000 [==============================] - 1s 29us/sample - loss: 0.1327 - accuracy: 0.9623 - val_loss: 0.1380 - val_accuracy: 0.9618\n",
      "Epoch 15/20\n",
      "50000/50000 [==============================] - 1s 26us/sample - loss: 0.1299 - accuracy: 0.9631 - val_loss: 0.1365 - val_accuracy: 0.9631\n",
      "Epoch 16/20\n",
      "50000/50000 [==============================] - 1s 24us/sample - loss: 0.1274 - accuracy: 0.9638 - val_loss: 0.1346 - val_accuracy: 0.9634\n",
      "Epoch 17/20\n",
      "50000/50000 [==============================] - 1s 28us/sample - loss: 0.1249 - accuracy: 0.9652 - val_loss: 0.1335 - val_accuracy: 0.9634\n",
      "Epoch 18/20\n",
      "50000/50000 [==============================] - 1s 25us/sample - loss: 0.1224 - accuracy: 0.9652 - val_loss: 0.1316 - val_accuracy: 0.9642\n",
      "Epoch 19/20\n",
      "50000/50000 [==============================] - 1s 21us/sample - loss: 0.1202 - accuracy: 0.9661 - val_loss: 0.1299 - val_accuracy: 0.9637\n",
      "Epoch 20/20\n",
      "50000/50000 [==============================] - 1s 23us/sample - loss: 0.1179 - accuracy: 0.9668 - val_loss: 0.1293 - val_accuracy: 0.9637\n"
     ]
    }
   ],
   "source": [
    "history =  model.fit(x_train, y_train, epochs=20, validation_data=(x_valid, y_valid), batch_size=128)"
   ]
  },
  {
   "cell_type": "code",
   "execution_count": 29,
   "metadata": {},
   "outputs": [
    {
     "name": "stdout",
     "output_type": "stream",
     "text": [
      "Train on 50000 samples, validate on 10000 samples\n",
      "Epoch 1/30\n",
      "50000/50000 [==============================] - 2s 31us/sample - loss: 0.1157 - accuracy: 0.9676 - val_loss: 0.1294 - val_accuracy: 0.9635\n",
      "Epoch 2/30\n",
      "50000/50000 [==============================] - 2s 49us/sample - loss: 0.1136 - accuracy: 0.9679 - val_loss: 0.1250 - val_accuracy: 0.9646\n",
      "Epoch 3/30\n",
      "50000/50000 [==============================] - 2s 39us/sample - loss: 0.1117 - accuracy: 0.9681 - val_loss: 0.1243 - val_accuracy: 0.9649\n",
      "Epoch 4/30\n",
      "50000/50000 [==============================] - 2s 41us/sample - loss: 0.1095 - accuracy: 0.9694 - val_loss: 0.1229 - val_accuracy: 0.9663\n",
      "Epoch 5/30\n",
      "50000/50000 [==============================] - 2s 31us/sample - loss: 0.1077 - accuracy: 0.9693 - val_loss: 0.1214 - val_accuracy: 0.9665\n",
      "Epoch 6/30\n",
      "50000/50000 [==============================] - 1s 30us/sample - loss: 0.1057 - accuracy: 0.9704 - val_loss: 0.1208 - val_accuracy: 0.9659\n",
      "Epoch 7/30\n",
      "50000/50000 [==============================] - 2s 35us/sample - loss: 0.1038 - accuracy: 0.9706 - val_loss: 0.1198 - val_accuracy: 0.9664\n",
      "Epoch 8/30\n",
      "50000/50000 [==============================] - 1s 29us/sample - loss: 0.1022 - accuracy: 0.9709 - val_loss: 0.1175 - val_accuracy: 0.9667\n",
      "Epoch 9/30\n",
      "50000/50000 [==============================] - 2s 33us/sample - loss: 0.1004 - accuracy: 0.9718 - val_loss: 0.1164 - val_accuracy: 0.9667\n",
      "Epoch 10/30\n",
      "50000/50000 [==============================] - 2s 35us/sample - loss: 0.0989 - accuracy: 0.9721 - val_loss: 0.1151 - val_accuracy: 0.9679\n",
      "Epoch 11/30\n",
      "50000/50000 [==============================] - 1s 27us/sample - loss: 0.0972 - accuracy: 0.9724 - val_loss: 0.1135 - val_accuracy: 0.9689\n",
      "Epoch 12/30\n",
      "50000/50000 [==============================] - 1s 26us/sample - loss: 0.0953 - accuracy: 0.9730 - val_loss: 0.1138 - val_accuracy: 0.9673\n",
      "Epoch 13/30\n",
      "50000/50000 [==============================] - 2s 39us/sample - loss: 0.0939 - accuracy: 0.9740 - val_loss: 0.1125 - val_accuracy: 0.9684\n",
      "Epoch 14/30\n",
      "50000/50000 [==============================] - 2s 33us/sample - loss: 0.0925 - accuracy: 0.9743 - val_loss: 0.1116 - val_accuracy: 0.9689\n",
      "Epoch 15/30\n",
      "50000/50000 [==============================] - 1s 29us/sample - loss: 0.0909 - accuracy: 0.9747 - val_loss: 0.1107 - val_accuracy: 0.9686\n",
      "Epoch 16/30\n",
      "50000/50000 [==============================] - 2s 30us/sample - loss: 0.0894 - accuracy: 0.9752 - val_loss: 0.1097 - val_accuracy: 0.9686\n",
      "Epoch 17/30\n",
      "50000/50000 [==============================] - 2s 35us/sample - loss: 0.0881 - accuracy: 0.9752 - val_loss: 0.1080 - val_accuracy: 0.9691\n",
      "Epoch 18/30\n",
      "50000/50000 [==============================] - 1s 30us/sample - loss: 0.0865 - accuracy: 0.9759 - val_loss: 0.1082 - val_accuracy: 0.9690\n",
      "Epoch 19/30\n",
      "50000/50000 [==============================] - 2s 35us/sample - loss: 0.0855 - accuracy: 0.9767 - val_loss: 0.1060 - val_accuracy: 0.9698\n",
      "Epoch 20/30\n",
      "50000/50000 [==============================] - 1s 26us/sample - loss: 0.0842 - accuracy: 0.9769 - val_loss: 0.1066 - val_accuracy: 0.9706\n",
      "Epoch 21/30\n",
      "50000/50000 [==============================] - 1s 25us/sample - loss: 0.0828 - accuracy: 0.9771 - val_loss: 0.1064 - val_accuracy: 0.9700\n",
      "Epoch 22/30\n",
      "50000/50000 [==============================] - 1s 28us/sample - loss: 0.0816 - accuracy: 0.9775 - val_loss: 0.1055 - val_accuracy: 0.9703\n",
      "Epoch 23/30\n",
      "50000/50000 [==============================] - 1s 28us/sample - loss: 0.0803 - accuracy: 0.9783 - val_loss: 0.1040 - val_accuracy: 0.9707\n",
      "Epoch 24/30\n",
      "50000/50000 [==============================] - 1s 30us/sample - loss: 0.0791 - accuracy: 0.9783 - val_loss: 0.1038 - val_accuracy: 0.9706\n",
      "Epoch 25/30\n",
      "50000/50000 [==============================] - 2s 35us/sample - loss: 0.0780 - accuracy: 0.9787 - val_loss: 0.1032 - val_accuracy: 0.9710\n",
      "Epoch 26/30\n",
      "50000/50000 [==============================] - 2s 35us/sample - loss: 0.0768 - accuracy: 0.9791 - val_loss: 0.1023 - val_accuracy: 0.9709\n",
      "Epoch 27/30\n",
      "50000/50000 [==============================] - 2s 31us/sample - loss: 0.0757 - accuracy: 0.9796 - val_loss: 0.1012 - val_accuracy: 0.9710\n",
      "Epoch 28/30\n",
      "50000/50000 [==============================] - 1s 29us/sample - loss: 0.0745 - accuracy: 0.9799 - val_loss: 0.1009 - val_accuracy: 0.9708\n",
      "Epoch 29/30\n",
      "50000/50000 [==============================] - 2s 31us/sample - loss: 0.0736 - accuracy: 0.9801 - val_loss: 0.1004 - val_accuracy: 0.9712\n",
      "Epoch 30/30\n",
      "50000/50000 [==============================] - 2s 36us/sample - loss: 0.0726 - accuracy: 0.9804 - val_loss: 0.0998 - val_accuracy: 0.9712\n"
     ]
    }
   ],
   "source": [
    "history =  model.fit(x_train, y_train, epochs=30, validation_data=(x_valid, y_valid), batch_size=128)"
   ]
  },
  {
   "cell_type": "code",
   "execution_count": null,
   "metadata": {},
   "outputs": [],
   "source": [
    "# google colabotory - cloud"
   ]
  },
  {
   "cell_type": "markdown",
   "metadata": {},
   "source": [
    "## Let's draw learning curve"
   ]
  },
  {
   "cell_type": "code",
   "execution_count": 24,
   "metadata": {},
   "outputs": [],
   "source": [
    "import matplotlib.pyplot as plt\n",
    "import pandas as pd"
   ]
  },
  {
   "cell_type": "code",
   "execution_count": 25,
   "metadata": {},
   "outputs": [],
   "source": [
    "a = history.history"
   ]
  },
  {
   "cell_type": "code",
   "execution_count": 26,
   "metadata": {},
   "outputs": [
    {
     "data": {
      "text/plain": [
       "dict_keys(['loss', 'accuracy', 'val_loss', 'val_accuracy'])"
      ]
     },
     "execution_count": 26,
     "metadata": {},
     "output_type": "execute_result"
    }
   ],
   "source": [
    "a.keys() # dictionary"
   ]
  },
  {
   "cell_type": "code",
   "execution_count": 28,
   "metadata": {},
   "outputs": [
    {
     "data": {
      "image/png": "[encoded data removed]",
      "text/plain": [
       "<Figure size 432x288 with 1 Axes>"
      ]
     },
     "metadata": {
      "needs_background": "light"
     },
     "output_type": "display_data"
    }
   ],
   "source": [
    "plt.plot(a[\"accuracy\"], label=\"train\")\n",
    "plt.plot(a[\"val_accuracy\"], label=\"valid\")\n",
    "plt.legend(fontsize='x-large')\n",
    "plt.show()"
   ]
  },
  {
   "cell_type": "code",
   "execution_count": 30,
   "metadata": {},
   "outputs": [],
   "source": [
    "a = history.history"
   ]
  },
  {
   "cell_type": "code",
   "execution_count": 31,
   "metadata": {},
   "outputs": [
    {
     "data": {
      "image/png": "[encoded data removed]",
      "text/plain": [
       "<Figure size 432x288 with 1 Axes>"
      ]
     },
     "metadata": {
      "needs_background": "light"
     },
     "output_type": "display_data"
    }
   ],
   "source": [
    "plt.plot(a[\"accuracy\"], label=\"train\")\n",
    "plt.plot(a[\"val_accuracy\"], label=\"valid\")\n",
    "plt.legend(fontsize='x-large')\n",
    "plt.show()\n",
    "# train is always good, valid : little bit flat (stop or not)\n",
    "# finally val_accuracy : 97%"
   ]
  },
  {
   "cell_type": "markdown",
   "metadata": {},
   "source": [
    "## Predictive analysis in Test data set"
   ]
  },
  {
   "cell_type": "code",
   "execution_count": 33,
   "metadata": {
    "scrolled": true
   },
   "outputs": [
    {
     "data": {
      "text/plain": [
       "<matplotlib.image.AxesImage at 0x1f802108888>"
      ]
     },
     "execution_count": 33,
     "metadata": {},
     "output_type": "execute_result"
    },
    {
     "data": {
      "image/png": "[encoded data removed]",
      "text/plain": [
       "<Figure size 432x288 with 1 Axes>"
      ]
     },
     "metadata": {
      "needs_background": "light"
     },
     "output_type": "display_data"
    }
   ],
   "source": [
    "plt.imshow(x_train[0,:,:])"
   ]
  },
  {
   "cell_type": "code",
   "execution_count": 36,
   "metadata": {},
   "outputs": [
    {
     "data": {
      "text/plain": [
       "array([0., 0., 0., 0., 0., 1., 0., 0., 0., 0.])"
      ]
     },
     "execution_count": 36,
     "metadata": {},
     "output_type": "execute_result"
    }
   ],
   "source": [
    "y_train[0, :]"
   ]
  },
  {
   "cell_type": "code",
   "execution_count": 41,
   "metadata": {},
   "outputs": [
    {
     "data": {
      "text/plain": [
       "array([1.1944930e-07, 1.9433463e-07, 2.7127862e-05, 1.3849593e-02,\n",
       "       1.8362323e-12, 9.8612261e-01, 3.4668182e-11, 4.4255081e-08,\n",
       "       3.5707373e-08, 4.0594156e-07], dtype=float32)"
      ]
     },
     "execution_count": 41,
     "metadata": {},
     "output_type": "execute_result"
    }
   ],
   "source": [
    "y_pred = model.predict(x_train)\n",
    "y_pred[0,:]\n",
    "# 99% 5"
   ]
  },
  {
   "cell_type": "code",
   "execution_count": 42,
   "metadata": {},
   "outputs": [
    {
     "name": "stdout",
     "output_type": "stream",
     "text": [
      "(50000, 10)\n"
     ]
    }
   ],
   "source": [
    "print(y_pred.shape) # dimension"
   ]
  },
  {
   "cell_type": "code",
   "execution_count": 43,
   "metadata": {},
   "outputs": [],
   "source": [
    "y_pred_class = np.argmax(y_pred, axis=1) # which is best"
   ]
  },
  {
   "cell_type": "code",
   "execution_count": 44,
   "metadata": {},
   "outputs": [
    {
     "data": {
      "text/plain": [
       "5"
      ]
     },
     "execution_count": 44,
     "metadata": {},
     "output_type": "execute_result"
    }
   ],
   "source": [
    "y_pred_class[0]"
   ]
  },
  {
   "cell_type": "code",
   "execution_count": 45,
   "metadata": {},
   "outputs": [
    {
     "data": {
      "text/plain": [
       "<matplotlib.image.AxesImage at 0x1f87fdf1c08>"
      ]
     },
     "execution_count": 45,
     "metadata": {},
     "output_type": "execute_result"
    },
    {
     "data": {
      "image/png": "[encoded data removed]",
      "text/plain": [
       "<Figure size 432x288 with 1 Axes>"
      ]
     },
     "metadata": {
      "needs_background": "light"
     },
     "output_type": "display_data"
    }
   ],
   "source": [
    "plt.imshow(x_test[0,:,:])"
   ]
  },
  {
   "cell_type": "code",
   "execution_count": 46,
   "metadata": {},
   "outputs": [
    {
     "data": {
      "text/plain": [
       "array([6.4372296e-05, 6.6478299e-07, 3.6091596e-04, 1.3369783e-03,\n",
       "       2.3672527e-07, 4.2162487e-06, 2.1588240e-10, 9.9818891e-01,\n",
       "       8.8055622e-06, 3.4845907e-05], dtype=float32)"
      ]
     },
     "execution_count": 46,
     "metadata": {},
     "output_type": "execute_result"
    }
   ],
   "source": [
    "y_pred = model.predict(x_test)\n",
    "y_pred[0,:]"
   ]
  },
  {
   "cell_type": "code",
   "execution_count": 47,
   "metadata": {},
   "outputs": [],
   "source": [
    "y_pred_class = np.argmax(y_pred, axis=1) # axis not 0"
   ]
  },
  {
   "cell_type": "code",
   "execution_count": 48,
   "metadata": {},
   "outputs": [
    {
     "name": "stdout",
     "output_type": "stream",
     "text": [
      "7\n"
     ]
    }
   ],
   "source": [
    "print(y_pred_class[0]) # test data ..."
   ]
  },
  {
   "cell_type": "code",
   "execution_count": 49,
   "metadata": {},
   "outputs": [
    {
     "data": {
      "text/plain": [
       "0.9718"
      ]
     },
     "execution_count": 49,
     "metadata": {},
     "output_type": "execute_result"
    }
   ],
   "source": [
    "np.mean(y_test == y_pred_class)"
   ]
  },
  {
   "cell_type": "markdown",
   "metadata": {},
   "source": [
    "## Which figure went wrong?"
   ]
  },
  {
   "cell_type": "code",
   "execution_count": 50,
   "metadata": {},
   "outputs": [],
   "source": [
    "aa = (y_test == y_pred_class)"
   ]
  },
  {
   "cell_type": "code",
   "execution_count": 51,
   "metadata": {
    "scrolled": false
   },
   "outputs": [
    {
     "data": {
      "text/plain": [
       "array([ True,  True,  True,  True,  True,  True,  True,  True, False,\n",
       "        True])"
      ]
     },
     "execution_count": 51,
     "metadata": {},
     "output_type": "execute_result"
    }
   ],
   "source": [
    "aa[0:10]"
   ]
  },
  {
   "cell_type": "code",
   "execution_count": 52,
   "metadata": {},
   "outputs": [],
   "source": [
    "bb = np.arange(0, 10000)"
   ]
  },
  {
   "cell_type": "code",
   "execution_count": 53,
   "metadata": {},
   "outputs": [],
   "source": [
    "cc = bb[aa==False]"
   ]
  },
  {
   "cell_type": "code",
   "execution_count": 158,
   "metadata": {},
   "outputs": [
    {
     "data": {
      "text/plain": [
       "<matplotlib.image.AxesImage at 0x27fafe98bc8>"
      ]
     },
     "execution_count": 158,
     "metadata": {},
     "output_type": "execute_result"
    },
    {
     "data": {
      "image/png": "[encoded data removed]",
      "text/plain": [
       "<Figure size 432x288 with 4 Axes>"
      ]
     },
     "metadata": {
      "needs_background": "light"
     },
     "output_type": "display_data"
    }
   ],
   "source": [
    "fig, (ax1, ax2, ax3, ax4) = plt.subplots(1, 4)\n",
    "fig.suptitle('Image of Wrong Classifications')\n",
    "ax1.imshow(x_test[cc[0],])\n",
    "ax2.imshow(x_test[cc[1],])\n",
    "ax3.imshow(x_test[cc[2],])\n",
    "ax4.imshow(x_test[cc[3],])"
   ]
  },
  {
   "cell_type": "code",
   "execution_count": null,
   "metadata": {},
   "outputs": [],
   "source": [
    "# 첫번째 그림 maybe 6? 5의 확률도 15% 정도 존재"
   ]
  },
  {
   "cell_type": "code",
   "execution_count": 159,
   "metadata": {},
   "outputs": [
    {
     "name": "stdout",
     "output_type": "stream",
     "text": [
      "[6 9 2 0] [5 4 4 6]\n"
     ]
    }
   ],
   "source": [
    "print(y_pred_class[cc[0:4],], y_test[cc[0:4]])"
   ]
  },
  {
   "cell_type": "markdown",
   "metadata": {},
   "source": [
    "### Image of Correct Classification"
   ]
  },
  {
   "cell_type": "code",
   "execution_count": 160,
   "metadata": {},
   "outputs": [
    {
     "data": {
      "text/plain": [
       "<matplotlib.image.AxesImage at 0x27fb2900dc8>"
      ]
     },
     "execution_count": 160,
     "metadata": {},
     "output_type": "execute_result"
    },
    {
     "data": {
      "image/png": "[encoded data removed]",
      "text/plain": [
       "<Figure size 432x288 with 4 Axes>"
      ]
     },
     "metadata": {
      "needs_background": "light"
     },
     "output_type": "display_data"
    }
   ],
   "source": [
    "fig, (ax1, ax2, ax3, ax4) = plt.subplots(1, 4)\n",
    "fig.suptitle('Image of Correct Classifications')\n",
    "ax1.imshow(x_test[0,])\n",
    "ax2.imshow(x_test[1,])\n",
    "ax3.imshow(x_test[2,])\n",
    "ax4.imshow(x_test[3,])"
   ]
  },
  {
   "cell_type": "code",
   "execution_count": 162,
   "metadata": {},
   "outputs": [
    {
     "name": "stdout",
     "output_type": "stream",
     "text": [
      "[7 2 1 0] [7 2 1 0]\n"
     ]
    }
   ],
   "source": [
    "print(y_pred_class[0:4,], y_test[0:4])"
   ]
  },
  {
   "cell_type": "markdown",
   "metadata": {},
   "source": [
    "## Multinomial Logistic Regression"
   ]
  },
  {
   "cell_type": "code",
   "execution_count": 164,
   "metadata": {},
   "outputs": [],
   "source": [
    "m_logistic_model = tf.keras.models.Sequential([\n",
    "  tf.keras.layers.Flatten(input_shape=(28, 28)),\n",
    "  tf.keras.layers.Dense(10, activation=\"softmax\")\n",
    "])"
   ]
  },
  {
   "cell_type": "code",
   "execution_count": 165,
   "metadata": {},
   "outputs": [
    {
     "name": "stdout",
     "output_type": "stream",
     "text": [
      "Model: \"sequential_3\"\n",
      "_________________________________________________________________\n",
      "Layer (type)                 Output Shape              Param #   \n",
      "=================================================================\n",
      "flatten_5 (Flatten)          (None, 784)               0         \n",
      "_________________________________________________________________\n",
      "dense_13 (Dense)             (None, 10)                7850      \n",
      "=================================================================\n",
      "Total params: 7,850\n",
      "Trainable params: 7,850\n",
      "Non-trainable params: 0\n",
      "_________________________________________________________________\n"
     ]
    }
   ],
   "source": [
    "m_logistic_model.compile(loss=\"categorical_crossentropy\", optimizer=\"sgd\", metrics=[\"accuracy\"])\n",
    "m_logistic_model.summary()"
   ]
  },
  {
   "cell_type": "code",
   "execution_count": 168,
   "metadata": {},
   "outputs": [
    {
     "name": "stdout",
     "output_type": "stream",
     "text": [
      "Train on 50000 samples, validate on 10000 samples\n",
      "Epoch 1/20\n",
      "50000/50000 [==============================] - 1s 28us/sample - loss: 1.3955 - accuracy: 0.6674 - val_loss: 0.8738 - val_accuracy: 0.8407\n",
      "Epoch 2/20\n",
      "50000/50000 [==============================] - 1s 21us/sample - loss: 0.7832 - accuracy: 0.8318 - val_loss: 0.6371 - val_accuracy: 0.8656\n",
      "Epoch 3/20\n",
      "50000/50000 [==============================] - 1s 20us/sample - loss: 0.6360 - accuracy: 0.8518 - val_loss: 0.5434 - val_accuracy: 0.8771\n",
      "Epoch 4/20\n",
      "50000/50000 [==============================] - 1s 20us/sample - loss: 0.5653 - accuracy: 0.8628 - val_loss: 0.4923 - val_accuracy: 0.8834\n",
      "Epoch 5/20\n",
      "50000/50000 [==============================] - 1s 21us/sample - loss: 0.5222 - accuracy: 0.8694 - val_loss: 0.4589 - val_accuracy: 0.8883\n",
      "Epoch 6/20\n",
      "50000/50000 [==============================] - 1s 22us/sample - loss: 0.4926 - accuracy: 0.8739 - val_loss: 0.4359 - val_accuracy: 0.8913\n",
      "Epoch 7/20\n",
      "50000/50000 [==============================] - 1s 22us/sample - loss: 0.4708 - accuracy: 0.8778 - val_loss: 0.4187 - val_accuracy: 0.8925\n",
      "Epoch 8/20\n",
      "50000/50000 [==============================] - 1s 20us/sample - loss: 0.4538 - accuracy: 0.8805 - val_loss: 0.4048 - val_accuracy: 0.8963\n",
      "Epoch 9/20\n",
      "50000/50000 [==============================] - 1s 19us/sample - loss: 0.4401 - accuracy: 0.8832 - val_loss: 0.3937 - val_accuracy: 0.8997\n",
      "Epoch 10/20\n",
      "50000/50000 [==============================] - 1s 18us/sample - loss: 0.4288 - accuracy: 0.8854 - val_loss: 0.3846 - val_accuracy: 0.9007\n",
      "Epoch 11/20\n",
      "50000/50000 [==============================] - 1s 17us/sample - loss: 0.4192 - accuracy: 0.8875 - val_loss: 0.3770 - val_accuracy: 0.9025\n",
      "Epoch 12/20\n",
      "50000/50000 [==============================] - 1s 20us/sample - loss: 0.4109 - accuracy: 0.8887 - val_loss: 0.3704 - val_accuracy: 0.9038\n",
      "Epoch 13/20\n",
      "50000/50000 [==============================] - 1s 19us/sample - loss: 0.4038 - accuracy: 0.8904 - val_loss: 0.3647 - val_accuracy: 0.9049\n",
      "Epoch 14/20\n",
      "50000/50000 [==============================] - 1s 20us/sample - loss: 0.3974 - accuracy: 0.8917 - val_loss: 0.3595 - val_accuracy: 0.9066\n",
      "Epoch 15/20\n",
      "50000/50000 [==============================] - 1s 21us/sample - loss: 0.3917 - accuracy: 0.8929 - val_loss: 0.3548 - val_accuracy: 0.9075\n",
      "Epoch 16/20\n",
      "50000/50000 [==============================] - 1s 22us/sample - loss: 0.3866 - accuracy: 0.8941 - val_loss: 0.3508 - val_accuracy: 0.9083\n",
      "Epoch 17/20\n",
      "50000/50000 [==============================] - 1s 21us/sample - loss: 0.3821 - accuracy: 0.8946 - val_loss: 0.3471 - val_accuracy: 0.9085\n",
      "Epoch 18/20\n",
      "50000/50000 [==============================] - 1s 21us/sample - loss: 0.3779 - accuracy: 0.8956 - val_loss: 0.3438 - val_accuracy: 0.9093\n",
      "Epoch 19/20\n",
      "50000/50000 [==============================] - 1s 19us/sample - loss: 0.3740 - accuracy: 0.8965 - val_loss: 0.3409 - val_accuracy: 0.9092\n",
      "Epoch 20/20\n",
      "50000/50000 [==============================] - 1s 19us/sample - loss: 0.3704 - accuracy: 0.8972 - val_loss: 0.3378 - val_accuracy: 0.9099\n"
     ]
    }
   ],
   "source": [
    "m_logistic_history =  m_logistic_model.fit(x_train, y_train, epochs=20, validation_data=(x_valid, y_valid), batch_size=128)"
   ]
  },
  {
   "cell_type": "code",
   "execution_count": null,
   "metadata": {},
   "outputs": [],
   "source": [
    "# 더 이상 val_accuracy의 값이 증가하지 않음\n",
    "# 나쁘진 않지만 neural network보다는 성능이 떨어짐\n",
    "# tensorflow version of multivariate logistic regression\n",
    "# Why NN is working well?\n",
    "# How do we improve NN?"
   ]
  },
  {
   "cell_type": "code",
   "execution_count": null,
   "metadata": {},
   "outputs": [],
   "source": [
    "# Hands-on Machine learning ... tensorflow 2nd edition\n",
    "# chapter"
   ]
  },
  {
   "cell_type": "code",
   "execution_count": 169,
   "metadata": {},
   "outputs": [
    {
     "data": {
      "image/png": "[encoded data removed]",
      "text/plain": [
       "<Figure size 432x288 with 1 Axes>"
      ]
     },
     "metadata": {
      "needs_background": "light"
     },
     "output_type": "display_data"
    }
   ],
   "source": [
    "a = m_logistic_history.history\n",
    "plt.plot(a[\"accuracy\"], label=\"train\")\n",
    "plt.plot(a[\"val_accuracy\"], label=\"valid\")\n",
    "plt.legend(fontsize='x-large')\n",
    "plt.show()"
   ]
  },
  {
   "cell_type": "code",
   "execution_count": 172,
   "metadata": {},
   "outputs": [
    {
     "data": {
      "text/plain": [
       "array([3.67651257e-04, 2.21080199e-06, 3.16101941e-04, 2.14435393e-03,\n",
       "       7.22445766e-05, 1.18915275e-04, 5.65385335e-06, 9.93860602e-01,\n",
       "       2.55093008e-04, 2.85719242e-03], dtype=float32)"
      ]
     },
     "execution_count": 172,
     "metadata": {},
     "output_type": "execute_result"
    }
   ],
   "source": [
    "y_pred_logistic = m_logistic_model.predict(x_test)\n",
    "y_pred_logistic[0,:]"
   ]
  },
  {
   "cell_type": "code",
   "execution_count": 173,
   "metadata": {},
   "outputs": [],
   "source": [
    "y_pred_logistic_class = np.argmax(y_pred_logistic, axis=1)"
   ]
  },
  {
   "cell_type": "code",
   "execution_count": 174,
   "metadata": {},
   "outputs": [
    {
     "data": {
      "text/plain": [
       "0.9071"
      ]
     },
     "execution_count": 174,
     "metadata": {},
     "output_type": "execute_result"
    }
   ],
   "source": [
    "np.mean(y_test == y_pred_logistic_class)"
   ]
  }
 ],
 "metadata": {
  "kernelspec": {
   "display_name": "Python 3",
   "language": "python",
   "name": "python3"
  },
  "language_info": {
   "codemirror_mode": {
    "name": "ipython",
    "version": 3
   },
   "file_extension": ".py",
   "mimetype": "text/x-python",
   "name": "python",
   "nbconvert_exporter": "python",
   "pygments_lexer": "ipython3",
   "version": "3.7.7"
  }
 },
 "nbformat": 4,
 "nbformat_minor": 4
}
