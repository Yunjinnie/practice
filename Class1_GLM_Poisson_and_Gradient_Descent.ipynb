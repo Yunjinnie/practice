{
 "cells": [
  {
   "cell_type": "markdown",
   "metadata": {},
   "source": [
    "## Poisson Regression with boston data"
   ]
  },
  {
   "cell_type": "code",
   "execution_count": 2,
   "metadata": {},
   "outputs": [],
   "source": [
    "import numpy as np \n",
    "import matplotlib.pyplot as plt\n",
    "import seaborn as sns\n",
    "import statsmodels.api as sm # for GLM"
   ]
  },
  {
   "cell_type": "markdown",
   "metadata": {},
   "source": [
    "### Data manipulation"
   ]
  },
  {
   "cell_type": "code",
   "execution_count": 3,
   "metadata": {
    "scrolled": true
   },
   "outputs": [
    {
     "data": {
      "text/plain": [
       "array(['CRIM', 'ZN', 'INDUS', 'CHAS', 'NOX', 'RM', 'AGE', 'DIS', 'RAD',\n",
       "       'TAX', 'PTRATIO', 'B', 'LSTAT'], dtype='<U7')"
      ]
     },
     "execution_count": 3,
     "metadata": {},
     "output_type": "execute_result"
    }
   ],
   "source": [
    "from sklearn import datasets\n",
    "boston = datasets.load_boston()\n",
    "X_train = boston['data']\n",
    "y_train = boston['target'] #number of crime\n",
    "boston.feature_names"
   ]
  },
  {
   "cell_type": "code",
   "execution_count": 4,
   "metadata": {},
   "outputs": [
    {
     "data": {
      "text/plain": [
       "array([6.320e-03, 1.800e+01, 2.310e+00, 0.000e+00, 5.380e-01, 6.575e+00,\n",
       "       6.520e+01, 4.090e+00, 1.000e+00, 2.960e+02, 1.530e+01, 3.969e+02,\n",
       "       4.980e+00])"
      ]
     },
     "execution_count": 4,
     "metadata": {},
     "output_type": "execute_result"
    }
   ],
   "source": [
    "X_train[0, ]"
   ]
  },
  {
   "cell_type": "code",
   "execution_count": 5,
   "metadata": {
    "scrolled": true
   },
   "outputs": [],
   "source": [
    "y = np.round_(y_train, decimals=0, out=None) #make into integers"
   ]
  },
  {
   "cell_type": "code",
   "execution_count": 6,
   "metadata": {},
   "outputs": [
    {
     "name": "stdout",
     "output_type": "stream",
     "text": [
      "(506, 13) (506,)\n"
     ]
    }
   ],
   "source": [
    "print(X_train.shape, y.shape) # dimension\n",
    "# of obs = 506, # of exp v = 13"
   ]
  },
  {
   "cell_type": "code",
   "execution_count": 7,
   "metadata": {
    "scrolled": true
   },
   "outputs": [
    {
     "data": {
      "text/plain": [
       "array([[6.3200e-03, 1.8000e+01, 2.3100e+00, 0.0000e+00, 5.3800e-01,\n",
       "        6.5750e+00, 6.5200e+01, 4.0900e+00, 1.0000e+00, 2.9600e+02,\n",
       "        1.5300e+01, 3.9690e+02, 4.9800e+00],\n",
       "       [2.7310e-02, 0.0000e+00, 7.0700e+00, 0.0000e+00, 4.6900e-01,\n",
       "        6.4210e+00, 7.8900e+01, 4.9671e+00, 2.0000e+00, 2.4200e+02,\n",
       "        1.7800e+01, 3.9690e+02, 9.1400e+00]])"
      ]
     },
     "execution_count": 7,
     "metadata": {},
     "output_type": "execute_result"
    }
   ],
   "source": [
    "X_train[0:2,]"
   ]
  },
  {
   "cell_type": "markdown",
   "metadata": {},
   "source": [
    "* X_train does not contain the column of 1's. In the following, we add the column of 1's into the model matrix."
   ]
  },
  {
   "cell_type": "code",
   "execution_count": 8,
   "metadata": {},
   "outputs": [
    {
     "name": "stdout",
     "output_type": "stream",
     "text": [
      "(506, 1) (506, 13)\n"
     ]
    }
   ],
   "source": [
    "my_ones = np.ones([506,1]) # 1로만 이루어진 열 추가\n",
    "print(my_ones.shape, X_train.shape)"
   ]
  },
  {
   "cell_type": "code",
   "execution_count": 9,
   "metadata": {},
   "outputs": [
    {
     "name": "stdout",
     "output_type": "stream",
     "text": [
      "(506, 14)\n"
     ]
    }
   ],
   "source": [
    "my_ones = np.ones([506,1])\n",
    "X = np.concatenate((my_ones, X_train), axis=1) # axis=1 : columns\n",
    "# combine two matrices so that axis=1 is increased\n",
    "print(X.shape)"
   ]
  },
  {
   "cell_type": "code",
   "execution_count": 10,
   "metadata": {},
   "outputs": [
    {
     "data": {
      "text/plain": [
       "0.00632"
      ]
     },
     "execution_count": 10,
     "metadata": {},
     "output_type": "execute_result"
    }
   ],
   "source": [
    "6.3200e-03 # 6.3200* 10**(-3)"
   ]
  },
  {
   "cell_type": "code",
   "execution_count": 11,
   "metadata": {},
   "outputs": [
    {
     "data": {
      "text/plain": [
       "array([[1.0000e+00, 6.3200e-03, 1.8000e+01, 2.3100e+00, 0.0000e+00,\n",
       "        5.3800e-01, 6.5750e+00, 6.5200e+01, 4.0900e+00, 1.0000e+00,\n",
       "        2.9600e+02, 1.5300e+01, 3.9690e+02, 4.9800e+00],\n",
       "       [1.0000e+00, 2.7310e-02, 0.0000e+00, 7.0700e+00, 0.0000e+00,\n",
       "        4.6900e-01, 6.4210e+00, 7.8900e+01, 4.9671e+00, 2.0000e+00,\n",
       "        2.4200e+02, 1.7800e+01, 3.9690e+02, 9.1400e+00],\n",
       "       [1.0000e+00, 2.7290e-02, 0.0000e+00, 7.0700e+00, 0.0000e+00,\n",
       "        4.6900e-01, 7.1850e+00, 6.1100e+01, 4.9671e+00, 2.0000e+00,\n",
       "        2.4200e+02, 1.7800e+01, 3.9283e+02, 4.0300e+00]])"
      ]
     },
     "execution_count": 11,
     "metadata": {},
     "output_type": "execute_result"
    }
   ],
   "source": [
    "X[0:3, :]"
   ]
  },
  {
   "cell_type": "code",
   "execution_count": 14,
   "metadata": {},
   "outputs": [
    {
     "data": {
      "text/plain": [
       "(506,)"
      ]
     },
     "execution_count": 14,
     "metadata": {},
     "output_type": "execute_result"
    }
   ],
   "source": [
    "y.shape"
   ]
  },
  {
   "cell_type": "code",
   "execution_count": 18,
   "metadata": {},
   "outputs": [],
   "source": [
    "# poisson regression model -> distribution\n",
    "# X=X1+ X2+ ... +X13 (설명 변수)\n",
    "poisson_model = sm.GLM(y, X, family=sm.families.Poisson(), link='log') \n",
    "# Find W based on MLE\n",
    "# y~pois(lambda), log(lambda) = b0+b1*x1+ ... + b13*x13\n",
    "# automatically link function implied link='log' -> 따로 안써도됨\n",
    "# family : poisson, logistic, gamma regression ...\n",
    "\n",
    "poisson_results = poisson_model.fit(); # optimizing function \n",
    "# -> find beta_0, ... beta_13, maximize likelihood function of this obs"
   ]
  },
  {
   "cell_type": "code",
   "execution_count": 19,
   "metadata": {},
   "outputs": [
    {
     "name": "stdout",
     "output_type": "stream",
     "text": [
      "                 Generalized Linear Model Regression Results                  \n",
      "==============================================================================\n",
      "Dep. Variable:                      y   No. Observations:                  506\n",
      "Model:                            GLM   Df Residuals:                      492\n",
      "Model Family:                 Poisson   Df Model:                           13\n",
      "Link Function:                    log   Scale:                          1.0000\n",
      "Method:                          IRLS   Log-Likelihood:                -1416.0\n",
      "Date:                Wed, 16 Dec 2020   Deviance:                       362.69\n",
      "Time:                        12:58:48   Pearson chi2:                     389.\n",
      "No. Iterations:                     5                                         \n",
      "Covariance Type:            nonrobust                                         \n",
      "==============================================================================\n",
      "                 coef    std err          z      P>|z|      [0.025      0.975]\n",
      "------------------------------------------------------------------------------\n",
      "const          3.7780      0.232     16.268      0.000       3.323       4.233\n",
      "x1            -0.0103      0.002     -4.699      0.000      -0.015      -0.006\n",
      "x2             0.0010      0.001      1.900      0.057   -3.29e-05       0.002\n",
      "x3             0.0022      0.003      0.829      0.407      -0.003       0.008\n",
      "x4             0.0922      0.035      2.664      0.008       0.024       0.160\n",
      "x5            -0.6932      0.182     -3.812      0.000      -1.050      -0.337\n",
      "x6             0.1225      0.018      6.735      0.000       0.087       0.158\n",
      "x7             0.0004      0.001      0.627      0.531      -0.001       0.002\n",
      "x8            -0.0490      0.009     -5.614      0.000      -0.066      -0.032\n",
      "x9             0.0154      0.003      4.827      0.000       0.009       0.022\n",
      "x10           -0.0005      0.000     -3.114      0.002      -0.001      -0.000\n",
      "x11           -0.0359      0.006     -6.281      0.000      -0.047      -0.025\n",
      "x12            0.0005      0.000      3.195      0.001       0.000       0.001\n",
      "x13           -0.0314      0.003    -12.235      0.000      -0.036      -0.026\n",
      "==============================================================================\n"
     ]
    }
   ],
   "source": [
    "print(poisson_results.summary())"
   ]
  },
  {
   "cell_type": "code",
   "execution_count": null,
   "metadata": {},
   "outputs": [],
   "source": [
    "# 여기 있는 coef가 각각 b0 ... b13\n",
    "# 목표는 lambda를 찾는 것 ... mean of y\n",
    "# lambda hat : beta hat을 사용했으므로\n",
    "# lambda : always positive -> log 함수 안에 있음이 이를 보여줌\n",
    "# -> exponential (X(i)*beta hat)"
   ]
  },
  {
   "cell_type": "code",
   "execution_count": 17,
   "metadata": {},
   "outputs": [],
   "source": [
    "yhat = poisson_results.mu # prediction for each observation\n",
    "# yhat[0] ... 29.9xx"
   ]
  },
  {
   "cell_type": "code",
   "execution_count": 187,
   "metadata": {},
   "outputs": [],
   "source": [
    "# yhat = poisson_results.predict(X)"
   ]
  },
  {
   "cell_type": "code",
   "execution_count": null,
   "metadata": {},
   "outputs": [],
   "source": [
    "# Let's calculate yhat[0] using hands\n",
    "# X[0,]\n",
    "# yhat0=exp(3.7780+beta1*x1+beta2*x2+... +beta13*x13)\n",
    "# ==  yhat0=np.exp(np.dot(X[0, ],beta_hat)) ...29.9xx same"
   ]
  },
  {
   "cell_type": "code",
   "execution_count": 18,
   "metadata": {
    "scrolled": true
   },
   "outputs": [
    {
     "data": {
      "text/plain": [
       "16.7256638587818"
      ]
     },
     "execution_count": 18,
     "metadata": {},
     "output_type": "execute_result"
    }
   ],
   "source": [
    "np.mean((y_train-yhat)**2)  # Calculation of MSE"
   ]
  },
  {
   "cell_type": "markdown",
   "metadata": {},
   "source": [
    "* Calculate MSE again!"
   ]
  },
  {
   "cell_type": "code",
   "execution_count": 19,
   "metadata": {},
   "outputs": [],
   "source": [
    "W = poisson_results.params # Estimated parameters\n",
    "# ... (14,)"
   ]
  },
  {
   "cell_type": "code",
   "execution_count": null,
   "metadata": {},
   "outputs": [],
   "source": [
    "beta_hat = poisson_results.params\n",
    "beta_hat.shape \n",
    "beta_hat = np.reshape(poisson_results.params, [14, 1])"
   ]
  },
  {
   "cell_type": "code",
   "execution_count": 20,
   "metadata": {},
   "outputs": [
    {
     "name": "stdout",
     "output_type": "stream",
     "text": [
      "(506,)\n"
     ]
    },
    {
     "data": {
      "text/plain": [
       "16.7256638587818"
      ]
     },
     "execution_count": 20,
     "metadata": {},
     "output_type": "execute_result"
    }
   ],
   "source": [
    "my_yhat = np.exp(np.dot(X, W) )\n",
    "print(my_yhat.shape) \n",
    "# yhat = np.exp(np.dot(X, beta_hat)) # real y.hat\n",
    "# print(yhat.shape) # (506, 1)\n",
    "\n",
    "# y_train : (506,)\n",
    "np.mean((y_train-my_yhat)**2)\n",
    "# [506,]-[506, 1] -> [1, 506] - [506, 1] -> [506, 506] - [506, 1] ... ugly\n",
    "# Y = np.reshape(y_train, [506,1])\n",
    "# Y.shape -> (506, 1) ... 일치\n",
    "# MSE = np.mean((Y-yhat)**2)"
   ]
  },
  {
   "cell_type": "markdown",
   "metadata": {},
   "source": [
    "### Draw plot"
   ]
  },
  {
   "cell_type": "code",
   "execution_count": 21,
   "metadata": {
    "scrolled": false
   },
   "outputs": [
    {
     "data": {
      "text/plain": [
       "[<matplotlib.lines.Line2D at 0x2641d43eec8>]"
      ]
     },
     "execution_count": 21,
     "metadata": {},
     "output_type": "execute_result"
    },
    {
     "data": {
      "image/png": "[encoded data removed]",
      "text/plain": [
       "<Figure size 432x288 with 1 Axes>"
      ]
     },
     "metadata": {
      "needs_background": "light"
     },
     "output_type": "display_data"
    }
   ],
   "source": [
    "import matplotlib.pyplot as plt\n",
    "plt.plot(yhat,y_train, 'o')\n",
    "plt.plot([0, 60], [0,60], 'r-') # prediction looks like good"
   ]
  },
  {
   "cell_type": "markdown",
   "metadata": {},
   "source": [
    "## Don't look at this part -- 2 weeks later\n",
    "## Same Solution - Optimization based on Gradient Descent"
   ]
  },
  {
   "cell_type": "markdown",
   "metadata": {},
   "source": [
    "* This part will be revisited later"
   ]
  },
  {
   "cell_type": "code",
   "execution_count": 20,
   "metadata": {},
   "outputs": [
    {
     "name": "stderr",
     "output_type": "stream",
     "text": [
      "C:\\anaconda3\\envs\\env\\lib\\site-packages\\ipykernel_launcher.py:1: RuntimeWarning: invalid value encountered in true_divide\n",
      "  \"\"\"Entry point for launching an IPython kernel.\n"
     ]
    }
   ],
   "source": [
    "XX=(X-X.mean(axis=0))/np.std(X, axis=0)\n",
    "# GD algorithm을 쓰려면 X standardized를 해줘야 함"
   ]
  },
  {
   "cell_type": "code",
   "execution_count": null,
   "metadata": {},
   "outputs": [],
   "source": [
    "# XX = X -> standardization is very important for gradient descent working\n",
    "# 안하면 overflow ..."
   ]
  },
  {
   "cell_type": "code",
   "execution_count": 21,
   "metadata": {},
   "outputs": [],
   "source": [
    "XX[:,0]=1 # 1st column = 1"
   ]
  },
  {
   "cell_type": "code",
   "execution_count": 22,
   "metadata": {},
   "outputs": [
    {
     "data": {
      "text/plain": [
       "(506, 1)"
      ]
     },
     "execution_count": 22,
     "metadata": {},
     "output_type": "execute_result"
    }
   ],
   "source": [
    "Y=y.reshape([506,1])\n",
    "Y.shape"
   ]
  },
  {
   "cell_type": "code",
   "execution_count": 13,
   "metadata": {},
   "outputs": [],
   "source": [
    "import scipy"
   ]
  },
  {
   "cell_type": "code",
   "execution_count": 23,
   "metadata": {},
   "outputs": [],
   "source": [
    "def f(beta, X, Y): # 정의 # this is -1 (beta)\n",
    "    # -f(beta) : negative value of log likelihood function : maximizing\n",
    "    # = minimize (- log function)\n",
    "    temp = np.exp(np.dot(X,beta))-Y*np.dot(X, beta)+scipy.special.gammaln(Y+1)\n",
    "    return np.sum(temp)\n",
    "\n",
    "# df obtained for free once you define f\n",
    "# df(f) \n",
    "\n",
    "def df(beta, X, Y): # don't need to calculate ... automatical\n",
    "    # in actual data analysis, using tensorflow, df is freely obtained from f function, derivative(f)\n",
    "    temp = np.exp(np.dot(X,beta))-Y\n",
    "    temp2 = np.mean(X*temp, axis=0)\n",
    "    return temp2.reshape([14,1])"
   ]
  },
  {
   "cell_type": "code",
   "execution_count": 24,
   "metadata": {},
   "outputs": [],
   "source": [
    "# gradient descent ... to find minimize things\n",
    "beta0=np.random.normal(0,1,[14,1]) # 14 column ... dim of beta0 = [14,1]\n",
    "lr=0.001\n",
    "iter1=5000 # iteration : 5000 -> # of data in each iteration : 506\n",
    "# of total data -> 5000 * 506\n",
    "beta=beta0\n",
    "history=np.ones([iter1,])\n",
    "for i in range(0,iter1):\n",
    "    beta = beta - lr * df(beta, XX, Y) # y is moving\n",
    "    history[i]=f(beta, XX, Y)\n",
    "    #print(\"************************\",  i, \"**********************\",    beta)"
   ]
  },
  {
   "cell_type": "code",
   "execution_count": 25,
   "metadata": {},
   "outputs": [
    {
     "data": {
      "text/plain": [
       "[<matplotlib.lines.Line2D at 0x201575f1348>]"
      ]
     },
     "execution_count": 25,
     "metadata": {},
     "output_type": "execute_result"
    },
    {
     "data": {
      "image/png": "[encoded data removed]",
      "text/plain": [
       "<Figure size 432x288 with 1 Axes>"
      ]
     },
     "metadata": {
      "needs_background": "light"
     },
     "output_type": "display_data"
    }
   ],
   "source": [
    "import matplotlib.pyplot as plt\n",
    "plt.plot(history[:]) # learning is over\n",
    "# negative function의 값이 점점 작아진다는 것은 곧 maximize를 의미함\n",
    "# learning curve - flat : learning is over when 1000\n",
    "# x축 : iteration number\n",
    "# negative라서 값이 작을 수록 좋음"
   ]
  },
  {
   "cell_type": "code",
   "execution_count": 205,
   "metadata": {},
   "outputs": [
    {
     "data": {
      "text/plain": [
       "[<matplotlib.lines.Line2D at 0x1eedf236908>]"
      ]
     },
     "execution_count": 205,
     "metadata": {},
     "output_type": "execute_result"
    },
    {
     "data": {
      "image/png": "[encoded data removed]",
      "text/plain": [
       "<Figure size 432x288 with 1 Axes>"
      ]
     },
     "metadata": {
      "needs_background": "light"
     },
     "output_type": "display_data"
    }
   ],
   "source": [
    "import matplotlib.pyplot as plt\n",
    "plt.plot(history[:])"
   ]
  },
  {
   "cell_type": "code",
   "execution_count": 26,
   "metadata": {},
   "outputs": [
    {
     "data": {
      "text/plain": [
       "array([[ 3.04864465],\n",
       "       [-0.08872099],\n",
       "       [ 0.02445404],\n",
       "       [ 0.01577132],\n",
       "       [ 0.02333752],\n",
       "       [-0.08034107],\n",
       "       [ 0.08589046],\n",
       "       [ 0.01040775],\n",
       "       [-0.10300676],\n",
       "       [ 0.13523935],\n",
       "       [-0.09143892],\n",
       "       [-0.07765697],\n",
       "       [ 0.04368575],\n",
       "       [-0.22417392]])"
      ]
     },
     "execution_count": 26,
     "metadata": {},
     "output_type": "execute_result"
    }
   ],
   "source": [
    "beta # 위에서 사용한 x와 약간 다름 : standardized 여부"
   ]
  },
  {
   "cell_type": "code",
   "execution_count": 211,
   "metadata": {
    "scrolled": true
   },
   "outputs": [
    {
     "data": {
      "text/plain": [
       "1416.0202939098758"
      ]
     },
     "execution_count": 211,
     "metadata": {},
     "output_type": "execute_result"
    }
   ],
   "source": [
    "f(beta, XX, Y)"
   ]
  },
  {
   "cell_type": "code",
   "execution_count": 212,
   "metadata": {},
   "outputs": [],
   "source": [
    "my_yhat = np.exp(np.dot(X, W) )\n",
    "my_yhat2 = np.exp(np.dot(XX, beta) )"
   ]
  },
  {
   "cell_type": "code",
   "execution_count": 213,
   "metadata": {
    "scrolled": true
   },
   "outputs": [
    {
     "data": {
      "text/plain": [
       "array([24.69482883, 31.57108125, 29.83295113, 28.29189   , 26.02959171,\n",
       "       22.14341111, 18.13403117, 11.96775387, 18.19758204])"
      ]
     },
     "execution_count": 213,
     "metadata": {},
     "output_type": "execute_result"
    }
   ],
   "source": [
    "my_yhat[1:10]"
   ]
  },
  {
   "cell_type": "code",
   "execution_count": 214,
   "metadata": {},
   "outputs": [
    {
     "data": {
      "text/plain": [
       "array([[24.69994292],\n",
       "       [31.5711263 ],\n",
       "       [29.83283516],\n",
       "       [28.29114655],\n",
       "       [26.03383602],\n",
       "       [22.15077532],\n",
       "       [18.14084703],\n",
       "       [11.97271604],\n",
       "       [18.20521123]])"
      ]
     },
     "execution_count": 214,
     "metadata": {},
     "output_type": "execute_result"
    }
   ],
   "source": [
    "my_yhat2[1:10]"
   ]
  }
 ],
 "metadata": {
  "anaconda-cloud": {},
  "kernelspec": {
   "display_name": "Python 3",
   "language": "python",
   "name": "python3"
  },
  "language_info": {
   "codemirror_mode": {
    "name": "ipython",
    "version": 3
   },
   "file_extension": ".py",
   "mimetype": "text/x-python",
   "name": "python",
   "nbconvert_exporter": "python",
   "pygments_lexer": "ipython3",
   "version": "3.7.7"
  }
 },
 "nbformat": 4,
 "nbformat_minor": 1
}
