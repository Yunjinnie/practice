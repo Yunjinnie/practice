{
 "cells": [
  {
   "cell_type": "markdown",
   "metadata": {},
   "source": [
    "### Dictionaries #R: Data.frame에서 \"name\""
   ]
  },
  {
   "cell_type": "markdown",
   "metadata": {},
   "source": [
    "## Data types: Story so far"
   ]
  },
  {
   "cell_type": "markdown",
   "metadata": {},
   "source": [
    "* Basic types\n",
    "    - Integers int:  \n",
    "    ..., -2, -1, 0, 1, 2, 3,...\n",
    "    - Floating point numbers float:      \n",
    "    0.05, 3.1415, 2.0, 62.8318, ...\n",
    "    - Strings str:  \n",
    "    \"hello\", ’John Doe’, ...\n",
    "* Compound data types (data that contains other data):\n",
    "    - Lists list:  \n",
    "    [1, 2, 3], [’alice’, ’bob’, 7]\n",
    "    - Tuple: (1,2,3, \"a\")\n",
    "    - Dictionaries dict:\n",
    "    - others (np.array, tuple, set)"
   ]
  },
  {
   "cell_type": "markdown",
   "metadata": {},
   "source": [
    "## Problems with lists"
   ]
  },
  {
   "cell_type": "markdown",
   "metadata": {},
   "source": [
    "Suppose we store and retrieve age of Bob and Alice:"
   ]
  },
  {
   "cell_type": "code",
   "execution_count": 20,
   "metadata": {
    "scrolled": true
   },
   "outputs": [
    {
     "ename": "TypeError",
     "evalue": "list indices must be integers or slices, not tuple",
     "output_type": "error",
     "traceback": [
      "\u001b[1;31m---------------------------------------------------------------------------\u001b[0m",
      "\u001b[1;31mTypeError\u001b[0m                                 Traceback (most recent call last)",
      "\u001b[1;32m<ipython-input-20-f98b37abe610>\u001b[0m in \u001b[0;36m<module>\u001b[1;34m\u001b[0m\n\u001b[0;32m      1\u001b[0m \u001b[0mages\u001b[0m \u001b[1;33m=\u001b[0m \u001b[1;33m[\u001b[0m\u001b[1;33m[\u001b[0m\u001b[1;34m'bob'\u001b[0m\u001b[1;33m,\u001b[0m \u001b[1;36m23\u001b[0m\u001b[1;33m]\u001b[0m\u001b[1;33m,\u001b[0m \u001b[1;33m[\u001b[0m\u001b[1;34m'alice'\u001b[0m\u001b[1;33m,\u001b[0m\u001b[1;36m25\u001b[0m\u001b[1;33m]\u001b[0m\u001b[1;33m,\u001b[0m \u001b[1;33m[\u001b[0m\u001b[1;34m'Ahn'\u001b[0m\u001b[1;33m,\u001b[0m \u001b[1;36m20\u001b[0m\u001b[1;33m]\u001b[0m\u001b[1;33m]\u001b[0m\u001b[1;33m\u001b[0m\u001b[1;33m\u001b[0m\u001b[0m\n\u001b[0;32m      2\u001b[0m \u001b[1;33m\u001b[0m\u001b[0m\n\u001b[1;32m----> 3\u001b[1;33m \u001b[0mages\u001b[0m\u001b[1;33m[\u001b[0m\u001b[0mages\u001b[0m\u001b[1;33m[\u001b[0m\u001b[1;33m:\u001b[0m\u001b[1;33m,\u001b[0m\u001b[1;36m1\u001b[0m\u001b[1;33m]\u001b[0m\u001b[1;33m==\u001b[0m\u001b[1;34m\"bob\"\u001b[0m\u001b[1;33m]\u001b[0m \u001b[1;31m#This work for R\u001b[0m\u001b[1;33m\u001b[0m\u001b[1;33m\u001b[0m\u001b[0m\n\u001b[0m",
      "\u001b[1;31mTypeError\u001b[0m: list indices must be integers or slices, not tuple"
     ]
    }
   ],
   "source": [
    "ages = [['bob', 23], ['alice',25], ['Ahn', 20]]\n",
    "\n",
    "ages[ages[:,1]==\"bob\"] #This work for R"
   ]
  },
  {
   "cell_type": "markdown",
   "metadata": {},
   "source": [
    "Have to remember Bob is index 0 and Alice is index 1\n",
    "\n",
    "*  Not going to work when there are lots of people.\n",
    "*  Would be much easier to not need to remember.  \n",
    "\n",
    "Instead use dictionaries"
   ]
  },
  {
   "cell_type": "code",
   "execution_count": 21,
   "metadata": {},
   "outputs": [
    {
     "name": "stdout",
     "output_type": "stream",
     "text": [
      "23\n",
      "25\n"
     ]
    }
   ],
   "source": [
    "ages = { 'bob': 23, 'alice': 25, 'Ahn':50 } # key:value\n",
    "print(ages['bob'])\n",
    "print(ages['alice'])"
   ]
  },
  {
   "cell_type": "markdown",
   "metadata": {},
   "source": [
    "What are dictionaries?"
   ]
  },
  {
   "cell_type": "markdown",
   "metadata": {},
   "source": [
    "* Values in a dictionary can be found using a key.\n",
    "    - Values in a dictionary can be anything.\n",
    "    - Keys can be anything that is immutable(does not change).\n",
    "        - e.g., strings, integers, floats, tuples, sets.\n",
    "* A dictionary uses curly braces: {}"
   ]
  },
  {
   "cell_type": "code",
   "execution_count": 9,
   "metadata": {},
   "outputs": [],
   "source": [
    "empty_dict = {}\n",
    "dict1 = {100: 'hundred', 1: 'one', 10: 'ten'}\n",
    "dict2 = {'bob':['england', -10],\n",
    "         'alice':['england', -5],\n",
    "         'mallory': ['usa',100]}\n",
    "dict3 = {1:{\"a\":10, \"b\":20},   2:{\"a\":50, \"b\":100}}"
   ]
  },
  {
   "cell_type": "code",
   "execution_count": 35,
   "metadata": {},
   "outputs": [
    {
     "data": {
      "text/plain": [
       "10"
      ]
     },
     "execution_count": 35,
     "metadata": {},
     "output_type": "execute_result"
    }
   ],
   "source": [
    "dict3 = {1:{\"a\":10, \"b\":20},   2:{\"a\":50, \"b\":100}}\n",
    "dict3[1][\"a\"]"
   ]
  },
  {
   "cell_type": "code",
   "execution_count": 10,
   "metadata": {},
   "outputs": [
    {
     "data": {
      "text/plain": [
       "50"
      ]
     },
     "execution_count": 10,
     "metadata": {},
     "output_type": "execute_result"
    }
   ],
   "source": [
    "dict3[2][\"a\"]"
   ]
  },
  {
   "cell_type": "markdown",
   "metadata": {},
   "source": [
    "## Things dictionaries can do"
   ]
  },
  {
   "cell_type": "markdown",
   "metadata": {},
   "source": [
    "* Dictionaries are mutable. You can change them.\n",
    "* Keys find associated values quickly.\n",
    "* Associations between keys and values can be added, deleted and changed.\n",
    "* Dictionaries are often useful in Python code:\n",
    "    - Efficiently associate a key with a value."
   ]
  },
  {
   "cell_type": "markdown",
   "metadata": {},
   "source": [
    "## Length and missing items"
   ]
  },
  {
   "cell_type": "markdown",
   "metadata": {},
   "source": [
    "The number of items in a dictionary can be determined using the len() function"
   ]
  },
  {
   "cell_type": "code",
   "execution_count": 37,
   "metadata": {},
   "outputs": [
    {
     "name": "stdout",
     "output_type": "stream",
     "text": [
      "{100: 'hundred', 1: 'one', 10: 'ten'}\n"
     ]
    },
    {
     "data": {
      "text/plain": [
       "3"
      ]
     },
     "execution_count": 37,
     "metadata": {},
     "output_type": "execute_result"
    }
   ],
   "source": [
    "print(dict1)\n",
    "len(dict1)"
   ]
  },
  {
   "cell_type": "markdown",
   "metadata": {},
   "source": [
    "Trying to retrieve an item using a key that is not in the\n",
    "dictionary throws an KeyError:"
   ]
  },
  {
   "cell_type": "code",
   "execution_count": 38,
   "metadata": {},
   "outputs": [
    {
     "name": "stdout",
     "output_type": "stream",
     "text": [
      "{100: 'hundred', 1: 'one', 10: 'ten'}\n"
     ]
    },
    {
     "ename": "KeyError",
     "evalue": "1000",
     "output_type": "error",
     "traceback": [
      "\u001b[1;31m---------------------------------------------------------------------------\u001b[0m",
      "\u001b[1;31mKeyError\u001b[0m                                  Traceback (most recent call last)",
      "\u001b[1;32m<ipython-input-38-70adea7e3b53>\u001b[0m in \u001b[0;36m<module>\u001b[1;34m\u001b[0m\n\u001b[0;32m      1\u001b[0m \u001b[0mprint\u001b[0m\u001b[1;33m(\u001b[0m\u001b[0mdict1\u001b[0m\u001b[1;33m)\u001b[0m\u001b[1;33m\u001b[0m\u001b[1;33m\u001b[0m\u001b[0m\n\u001b[1;32m----> 2\u001b[1;33m \u001b[0mdict1\u001b[0m\u001b[1;33m[\u001b[0m\u001b[1;36m1000\u001b[0m\u001b[1;33m]\u001b[0m \u001b[1;31m# 1000 is not a key\u001b[0m\u001b[1;33m\u001b[0m\u001b[1;33m\u001b[0m\u001b[0m\n\u001b[0m",
      "\u001b[1;31mKeyError\u001b[0m: 1000"
     ]
    }
   ],
   "source": [
    "print(dict1)\n",
    "dict1[1000] # 1000 is not a key "
   ]
  },
  {
   "cell_type": "markdown",
   "metadata": {},
   "source": [
    "## Keys and values"
   ]
  },
  {
   "cell_type": "markdown",
   "metadata": {},
   "source": [
    "A list of keys in a dictionary can be found using the .keys() member function:"
   ]
  },
  {
   "cell_type": "code",
   "execution_count": 39,
   "metadata": {},
   "outputs": [
    {
     "name": "stdout",
     "output_type": "stream",
     "text": [
      "{100: 'hundred', 1: 'one', 10: 'ten'}\n",
      "dict_keys([100, 1, 10])\n"
     ]
    }
   ],
   "source": [
    "print(dict1)\n",
    "print(dict1.keys())"
   ]
  },
  {
   "cell_type": "markdown",
   "metadata": {},
   "source": [
    "Likewise, a list of values in a dictionary can be found using\n",
    "the .values() member function:"
   ]
  },
  {
   "cell_type": "code",
   "execution_count": 40,
   "metadata": {},
   "outputs": [
    {
     "name": "stdout",
     "output_type": "stream",
     "text": [
      "dict_values(['hundred', 'one', 'ten'])\n"
     ]
    }
   ],
   "source": [
    "print(dict1.values())"
   ]
  },
  {
   "cell_type": "markdown",
   "metadata": {},
   "source": [
    "You can also get both together, using the .items() member function:"
   ]
  },
  {
   "cell_type": "code",
   "execution_count": 17,
   "metadata": {
    "scrolled": true
   },
   "outputs": [
    {
     "data": {
      "text/plain": [
       "[(100, 'hundred'), (1, 'one'), (10, 'ten')]"
      ]
     },
     "execution_count": 17,
     "metadata": {},
     "output_type": "execute_result"
    }
   ],
   "source": [
    "list(dict1.items())"
   ]
  },
  {
   "cell_type": "code",
   "execution_count": 43,
   "metadata": {},
   "outputs": [
    {
     "name": "stdout",
     "output_type": "stream",
     "text": [
      "dict_keys([100, 1, 10])\n",
      "My key is 100, and the corresponding item is hundred\n",
      "My key is 1, and the corresponding item is one\n",
      "My key is 10, and the corresponding item is ten\n"
     ]
    }
   ],
   "source": [
    "print(dict1.keys())\n",
    "for i in dict1.keys():\n",
    "    print(\"My key is {}, and the corresponding item is {}\".format(i, dict1[i]))"
   ]
  },
  {
   "cell_type": "code",
   "execution_count": 46,
   "metadata": {},
   "outputs": [
    {
     "name": "stdout",
     "output_type": "stream",
     "text": [
      "dict_items([(100, 'hundred'), (1, 'one'), (10, 'ten')])\n",
      "(100, 'hundred')\n",
      "My key is 100, and the corresponding item is hundred\n",
      "(1, 'one')\n",
      "My key is 1, and the corresponding item is one\n",
      "(10, 'ten')\n",
      "My key is 10, and the corresponding item is ten\n"
     ]
    }
   ],
   "source": [
    "print(dict1.items())\n",
    "for i in dict1.items(): \n",
    "    print(i)\n",
    "    print(\"My key is {}, and the corresponding item is {}\".format(i[0], i[1]))"
   ]
  },
  {
   "cell_type": "code",
   "execution_count": 47,
   "metadata": {},
   "outputs": [
    {
     "name": "stdout",
     "output_type": "stream",
     "text": [
      "current key is 100 and corresponding value is hundred\n",
      "current key is 1 and corresponding value is one\n",
      "current key is 10 and corresponding value is ten\n"
     ]
    }
   ],
   "source": [
    "for mykey, myvalue in dict1.items(): #[(100, 'hundred'), (1, 'one'), (10, 'ten')]\n",
    "    print(\"current key is {0} and corresponding value is {1}\".format(mykey, myvalue))"
   ]
  },
  {
   "cell_type": "markdown",
   "metadata": {},
   "source": [
    "## Testing for keys"
   ]
  },
  {
   "cell_type": "markdown",
   "metadata": {},
   "source": [
    "One can efficiently test if a key is in a dictionary: use the in operator."
   ]
  },
  {
   "cell_type": "code",
   "execution_count": 49,
   "metadata": {
    "scrolled": true
   },
   "outputs": [
    {
     "name": "stdout",
     "output_type": "stream",
     "text": [
      "{100: 'hundred', 1: 'one', 10: 'ten'}\n",
      "True\n",
      "True\n"
     ]
    }
   ],
   "source": [
    "print(dict1)\n",
    "#print(100 in dict1)\n",
    "#print(100 in dict1)\n",
    "print(100 in dict1.keys())\n"
   ]
  },
  {
   "cell_type": "code",
   "execution_count": 33,
   "metadata": {},
   "outputs": [
    {
     "data": {
      "text/plain": [
       "{'bob': ['england', -10], 'alice': ['england', -5], 'mallory': ['usa', 100]}"
      ]
     },
     "execution_count": 33,
     "metadata": {},
     "output_type": "execute_result"
    }
   ],
   "source": [
    "dict2"
   ]
  },
  {
   "cell_type": "markdown",
   "metadata": {},
   "source": [
    "## Adding items"
   ]
  },
  {
   "cell_type": "code",
   "execution_count": 51,
   "metadata": {},
   "outputs": [
    {
     "name": "stdout",
     "output_type": "stream",
     "text": [
      "{100: 'hundred', 1: 'one', 10: 'ten', 1000: 'thousand'}\n"
     ]
    }
   ],
   "source": [
    "dict1[1000] = 'thousand' # adding is the same as data.frame in R\n",
    "\n",
    "print(dict1)"
   ]
  },
  {
   "cell_type": "code",
   "execution_count": 52,
   "metadata": {},
   "outputs": [
    {
     "name": "stdout",
     "output_type": "stream",
     "text": [
      "{100: 'hundred', 1: 'one', 10: 'ten', 1000: 'Thousand'}\n"
     ]
    }
   ],
   "source": [
    "dict1[1000] = 'Thousand' # adding is the same as data.frame in R\n",
    "print(dict1)"
   ]
  },
  {
   "cell_type": "code",
   "execution_count": 53,
   "metadata": {},
   "outputs": [
    {
     "data": {
      "text/plain": [
       "{'bob': ['england', -10], 'alice': ['england', -5], 'mallory': ['usa', 100]}"
      ]
     },
     "execution_count": 53,
     "metadata": {},
     "output_type": "execute_result"
    }
   ],
   "source": [
    "dict2"
   ]
  },
  {
   "cell_type": "code",
   "execution_count": 54,
   "metadata": {},
   "outputs": [
    {
     "name": "stdout",
     "output_type": "stream",
     "text": [
      "{'bob': ['england', -10], 'alice': ['england', -5], 'mallory': ['usa', 100], 'jaeyoun': ['korea', 20]}\n"
     ]
    }
   ],
   "source": [
    "#print(1000 in dict1) # testing for key\n",
    "\n",
    "dict2['jaeyoun'] = ['korea', 20] # adding item to dict2\n",
    "print(dict2)"
   ]
  },
  {
   "cell_type": "markdown",
   "metadata": {},
   "source": [
    "You can add items by using a key that has not been used yet."
   ]
  },
  {
   "cell_type": "markdown",
   "metadata": {},
   "source": [
    "## Modifying items"
   ]
  },
  {
   "cell_type": "markdown",
   "metadata": {},
   "source": [
    "Items can be modified from a dictionary just like in a list:"
   ]
  },
  {
   "cell_type": "code",
   "execution_count": 55,
   "metadata": {},
   "outputs": [
    {
     "data": {
      "text/plain": [
       "{'bob': ['england', -10],\n",
       " 'alice': ['england', -5],\n",
       " 'mallory': ['usa', 100],\n",
       " 'jaeyoun': ['korea', 20]}"
      ]
     },
     "execution_count": 55,
     "metadata": {},
     "output_type": "execute_result"
    }
   ],
   "source": [
    "dict2"
   ]
  },
  {
   "cell_type": "code",
   "execution_count": 56,
   "metadata": {},
   "outputs": [
    {
     "name": "stdout",
     "output_type": "stream",
     "text": [
      "['england', -5]\n"
     ]
    }
   ],
   "source": [
    "dict2['bob'] = ['england', -5]\n",
    "print(dict2['bob'])\n",
    "\n",
    "\n"
   ]
  },
  {
   "cell_type": "code",
   "execution_count": 58,
   "metadata": {},
   "outputs": [
    {
     "name": "stdout",
     "output_type": "stream",
     "text": [
      "{'bob': ['england', -100], 'alice': ['england', -5], 'mallory': ['usa', 100], 'jaeyoun': ['korea', 20]}\n"
     ]
    }
   ],
   "source": [
    "dict2['bob'][1]=-100\n",
    "print(dict2)"
   ]
  },
  {
   "cell_type": "markdown",
   "metadata": {},
   "source": [
    "## Removing items"
   ]
  },
  {
   "cell_type": "markdown",
   "metadata": {},
   "source": [
    "Similarly, items can be removed from a dictionary using the del operator:"
   ]
  },
  {
   "cell_type": "code",
   "execution_count": 61,
   "metadata": {},
   "outputs": [
    {
     "name": "stdout",
     "output_type": "stream",
     "text": [
      "True\n",
      "{'bob': ['england', -100], 'alice': ['england', -5]}\n"
     ]
    }
   ],
   "source": [
    "print('jaeyoun' in dict2.keys())\n",
    "dict2\n",
    "del dict2['jaeyoun']\n",
    "print(dict2)"
   ]
  },
  {
   "cell_type": "markdown",
   "metadata": {},
   "source": [
    "## Iterating over items"
   ]
  },
  {
   "cell_type": "markdown",
   "metadata": {},
   "source": [
    "Two common ways of iterating over the items of a dictionary:"
   ]
  },
  {
   "cell_type": "code",
   "execution_count": 64,
   "metadata": {},
   "outputs": [
    {
     "data": {
      "text/plain": [
       "dict_items([(100, 'hundred'), (1, 'one'), (10, 'ten'), (1000, 'Thousand')])"
      ]
     },
     "execution_count": 64,
     "metadata": {},
     "output_type": "execute_result"
    }
   ],
   "source": [
    "dict1.items()"
   ]
  },
  {
   "cell_type": "code",
   "execution_count": 63,
   "metadata": {},
   "outputs": [
    {
     "name": "stdout",
     "output_type": "stream",
     "text": [
      "{100: 'hundred', 1: 'one', 10: 'ten', 1000: 'Thousand'}\n",
      "key=100 and value=hundred\n",
      "key=1 and value=one\n",
      "key=10 and value=ten\n",
      "key=1000 and value=Thousand\n"
     ]
    }
   ],
   "source": [
    "print(dict1)\n",
    "\n",
    "for a in dict1.keys():\n",
    "    print(\"key={0} and value={1}\".format(a, dict1[a]))\n",
    "\n",
    "for a in dict1:  #try to avoid because it is a bit vague\n",
    "    print(\"key={0} and value={1}\".format(a, dict1[a]))\n",
    "    \n",
    "for a in dict1.items():\n",
    "    print(\"key={0} and value={1}\".format(a[0], a[1]))\n",
    "\n",
    "for a, b in dict1.items():\n",
    "    print(\"key={0} and value={1}\".format(a, b))\n",
    "\n"
   ]
  },
  {
   "cell_type": "code",
   "execution_count": 65,
   "metadata": {},
   "outputs": [
    {
     "name": "stdout",
     "output_type": "stream",
     "text": [
      "100 3 0\n"
     ]
    }
   ],
   "source": [
    "a, b, c = [100, 3, 0] # a=100; b=3; c=0\n",
    "print(a, b, c)"
   ]
  },
  {
   "cell_type": "markdown",
   "metadata": {},
   "source": [
    "* Example 1: Write a function that prints key-value pairs of a dictionary."
   ]
  },
  {
   "cell_type": "code",
   "execution_count": 67,
   "metadata": {},
   "outputs": [
    {
     "name": "stdout",
     "output_type": "stream",
     "text": [
      "key = 100 and value=hundred\n",
      "key = 1 and value=one\n",
      "key = 10 and value=ten\n",
      "key = 1000 and value=Thousand\n"
     ]
    }
   ],
   "source": [
    "def print_dic(my_dic):\n",
    "    for i in my_dic.items():\n",
    "        print(\"key = {} and value={}\".format(i[0], i[1]))\n",
    "\n",
    "print_dic(dict1)"
   ]
  },
  {
   "cell_type": "markdown",
   "metadata": {},
   "source": [
    "* Example 2: Write a function that takes a list, and returns a dictionary with keys the elements of the list and as\n",
    "value the number of occurances of that element in the list."
   ]
  },
  {
   "cell_type": "code",
   "execution_count": 69,
   "metadata": {},
   "outputs": [
    {
     "name": "stdout",
     "output_type": "stream",
     "text": [
      "{0: 'apple', 1: 'pear', 2: 'water'}\n"
     ]
    }
   ],
   "source": [
    "def list_to_dic(my_list):\n",
    "    my_dic = {}\n",
    "    n=len(my_list)\n",
    "    for i in range(n):\n",
    "        my_dic[i]=my_list[i]\n",
    "    return my_dic\n",
    "\n",
    "a = list_to_dic([\"apple\", \"pear\", \"water\"]) \n",
    "print(a)"
   ]
  },
  {
   "cell_type": "markdown",
   "metadata": {},
   "source": [
    "# Object and class"
   ]
  },
  {
   "cell_type": "code",
   "execution_count": null,
   "metadata": {},
   "outputs": [],
   "source": [
    "# list and dictionary are examples of class\n",
    "# a={1: \"win\", 0:\"lose\"} is an object in the list class. This object has its own function such as items() or keys().\n",
    "# We can use \"Class\" to make more classes: once class is defined, we can create obhect in the defined class.\n",
    "\n",
    "# 사용자 정의 Object를 만들고 싶다. (내가 만든 함수계산허용)\n",
    "# Class 는 Object를 만들어 내는 (함수)"
   ]
  },
  {
   "cell_type": "code",
   "execution_count": 6,
   "metadata": {},
   "outputs": [
    {
     "name": "stdout",
     "output_type": "stream",
     "text": [
      "8\n"
     ]
    }
   ],
   "source": [
    "def myadd(a,b):\n",
    "    return a+b\n",
    "\n",
    "c=myadd(3,5)\n",
    "print(c)\n",
    "\n",
    "class myfirstclass:\n",
    "    secret = [3.142, 1.414]\n",
    "    def mysum(self, a,b):\n",
    "        temp = a+b\n",
    "        print(\"My secret numbers are {0} and {1}, and your sum is {2}\".format(self.secret[0],self.secret[1], temp))\n",
    "\n",
    "class mysecondclass:\n",
    "    secret=[]\n",
    "    def mysecret(self, a,b):\n",
    "        self.secret=[a,b]\n",
    "    def mysum(self, a,b):\n",
    "        temp = a+b\n",
    "        print(\"My secret numbers are {0} and {1}, and your sum is {2}\".format(self.secret[0],self.secret[1], temp))\n",
    "\n",
    "class mythirdclass:\n",
    "    #secret=[]\n",
    "    def __init__(self, a,b):\n",
    "        self.secret=[a,b]\n",
    "    def mysum(self, a,b):\n",
    "        temp = a+b\n",
    "        print(\"My secret numbers are {0} and {1}, and your sum is {2}\".format(self.secret[0],self.secret[1], temp))\n",
    "        "
   ]
  },
  {
   "cell_type": "code",
   "execution_count": 8,
   "metadata": {},
   "outputs": [
    {
     "name": "stdout",
     "output_type": "stream",
     "text": [
      "My secret numbers are 3.142 and 1.414, and your sum is 20\n"
     ]
    }
   ],
   "source": [
    "o1 = myfirstclass()\n",
    "o1.mysum(10,10)"
   ]
  },
  {
   "cell_type": "code",
   "execution_count": 11,
   "metadata": {},
   "outputs": [
    {
     "name": "stdout",
     "output_type": "stream",
     "text": [
      "My secret numbers are 5 and 5, and your sum is 2\n"
     ]
    }
   ],
   "source": [
    "o2 = mysecondclass()\n",
    "o2.mysecret(5,5)\n",
    "o2.mysum(1,1)"
   ]
  },
  {
   "cell_type": "code",
   "execution_count": 103,
   "metadata": {},
   "outputs": [
    {
     "name": "stdout",
     "output_type": "stream",
     "text": [
      "My secret numbers are Five and Three, and your sum is 300\n"
     ]
    }
   ],
   "source": [
    "o4 = mythirdclass(\"Five\", \"Three\")\n",
    "o4.mysum(100, 200)\n",
    "\n",
    "#mysum(50, 10) #Error"
   ]
  },
  {
   "cell_type": "markdown",
   "metadata": {},
   "source": [
    "* Example 1:"
   ]
  },
  {
   "cell_type": "code",
   "execution_count": null,
   "metadata": {},
   "outputs": [],
   "source": [
    "# 1> a=FourCal() # create class\n",
    "# 2> a.setdata(5, 8) # use function in the class (set the data)         \n",
    "# 3> Use more functions\n",
    "#    a.sum()\n",
    "#    a.mul()\n",
    "#    a.sub()\n",
    "#    a.div()\n",
    "# 4> Use __init__ do the abive without step in 2>"
   ]
  },
  {
   "cell_type": "code",
   "execution_count": 104,
   "metadata": {},
   "outputs": [],
   "source": [
    "class FourCal:\n",
    "    def setdata(self, a, b):\n",
    "        self.mynum = [a,b]\n",
    "    def sum(self):\n",
    "        print(self.mynum[0]+self.mynum[1])\n",
    "        \n",
    "    "
   ]
  },
  {
   "cell_type": "code",
   "execution_count": 105,
   "metadata": {},
   "outputs": [
    {
     "name": "stdout",
     "output_type": "stream",
     "text": [
      "13\n"
     ]
    }
   ],
   "source": [
    "o1 = FourCal()\n",
    "o1.setdata(5, 8)\n",
    "o1.sum()"
   ]
  },
  {
   "cell_type": "code",
   "execution_count": 115,
   "metadata": {},
   "outputs": [],
   "source": [
    "class FourCal:\n",
    "    def __init__(self, a, b):\n",
    "        self.mynum = [a,b]\n",
    "    def sum(self):\n",
    "        print(self.mynum[0]+self.mynum[1])\n",
    "    def mul(self):\n",
    "        print(self.mynum[0]*self.mynum[1])"
   ]
  },
  {
   "cell_type": "code",
   "execution_count": 111,
   "metadata": {},
   "outputs": [
    {
     "name": "stdout",
     "output_type": "stream",
     "text": [
      "13\n",
      "40\n"
     ]
    }
   ],
   "source": [
    "o2 = FourCal(5, 8)\n",
    "o2.sum()\n",
    "o2.mul()"
   ]
  },
  {
   "cell_type": "code",
   "execution_count": 116,
   "metadata": {},
   "outputs": [],
   "source": [
    "# 상속 (Inheritance)\n",
    "# length(5,8)=sqrt(5^2 + 8^2)\n",
    "class FiveCal(FourCal):\n",
    "    def length(self):\n",
    "        print((self.mynum[0]**2 + self.mynum[1]**2)**0.5)\n",
    "    def sum(self, a):\n",
    "        temp = self.mynum[0]+self.mynum[1]\n",
    "        print(\"{0}, Summation of your two numbers are {1}\".format(a, temp))\n",
    "    \n",
    "    \n",
    "    "
   ]
  },
  {
   "cell_type": "code",
   "execution_count": 118,
   "metadata": {
    "scrolled": true
   },
   "outputs": [
    {
     "name": "stdout",
     "output_type": "stream",
     "text": [
      "Jaeyoun, Summation of your two numbers are 7\n"
     ]
    }
   ],
   "source": [
    "o3 = FiveCal(3, 4)\n",
    "o3.sum(\"Jaeyoun\")"
   ]
  },
  {
   "cell_type": "markdown",
   "metadata": {},
   "source": [
    "* Example 4: Make classes for a rectangle and a triangle\n",
    "\n",
    "The purpose of this exercise is to create classes for rectangle: a rectangle with width W\n",
    ", height H, and lower left corner (x0,y0). Provide three methods: __init__ (to initialize the geometric data), area, and perimeter. "
   ]
  },
  {
   "cell_type": "code",
   "execution_count": null,
   "metadata": {},
   "outputs": [],
   "source": [
    "class mysecondclass :\n",
    "    def mysecret(self, c, d):\n",
    "        self.secret = [c,d]\n",
    "    def mysum_secret(self, a, b):\n",
    "        "
   ]
  },
  {
   "cell_type": "code",
   "execution_count": null,
   "metadata": {},
   "outputs": [],
   "source": [
    "o2 = mysecondclass()\n",
    "o2.mysecret(3,5)\n",
    "o2.mysum_secret(10,10)"
   ]
  },
  {
   "cell_type": "code",
   "execution_count": null,
   "metadata": {},
   "outputs": [],
   "source": [
    "class mythirdclass:\n",
    "    def __init__(self, c, d):\n",
    "        self.secret = [c,d] # require 2 input\n",
    "    def mysum_secret(self, a, b):\n",
    "        temp1 = self.secret[0]\n",
    "        temp2 = self.secret[1]\n",
    "        temp = temp1 + temp2 + a + b\n",
    "        return temp"
   ]
  },
  {
   "cell_type": "code",
   "execution_count": null,
   "metadata": {},
   "outputs": [],
   "source": [
    "o3 = mythirdclass()"
   ]
  }
 ],
 "metadata": {
  "kernelspec": {
   "display_name": "Python 3",
   "language": "python",
   "name": "python3"
  },
  "language_info": {
   "codemirror_mode": {
    "name": "ipython",
    "version": 3
   },
   "file_extension": ".py",
   "mimetype": "text/x-python",
   "name": "python",
   "nbconvert_exporter": "python",
   "pygments_lexer": "ipython3",
   "version": "3.7.7"
  }
 },
 "nbformat": 4,
 "nbformat_minor": 1
}
