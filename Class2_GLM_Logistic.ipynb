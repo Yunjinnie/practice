{
 "cells": [
  {
   "cell_type": "markdown",
   "metadata": {},
   "source": [
    "## Logistic Regression with boston data"
   ]
  },
  {
   "cell_type": "code",
   "execution_count": 1,
   "metadata": {},
   "outputs": [],
   "source": [
    "import numpy as np \n",
    "import matplotlib.pyplot as plt\n",
    "import seaborn as sns\n",
    "import statsmodels.api as sm"
   ]
  },
  {
   "cell_type": "markdown",
   "metadata": {},
   "source": [
    "### Data manipulation"
   ]
  },
  {
   "cell_type": "code",
   "execution_count": 2,
   "metadata": {},
   "outputs": [],
   "source": [
    "from numpy import genfromtxt\n",
    "X = genfromtxt('./data/X_ber.csv', delimiter=',',skip_header=1)\n",
    "y = genfromtxt('./data/y_ber.csv', delimiter=',',skip_header=1)"
   ]
  },
  {
   "cell_type": "code",
   "execution_count": 3,
   "metadata": {},
   "outputs": [
    {
     "data": {
      "text/plain": [
       "array([[  1.  , 380.  ,   3.61,   3.  ],\n",
       "       [  1.  , 660.  ,   3.67,   3.  ],\n",
       "       [  1.  , 800.  ,   4.  ,   1.  ],\n",
       "       [  1.  , 640.  ,   3.19,   4.  ],\n",
       "       [  1.  , 520.  ,   2.93,   4.  ]])"
      ]
     },
     "execution_count": 3,
     "metadata": {},
     "output_type": "execute_result"
    }
   ],
   "source": [
    "X[0:5, :] # numpy array\n",
    "# x1 : gpa, x3: rank of school"
   ]
  },
  {
   "cell_type": "code",
   "execution_count": 4,
   "metadata": {},
   "outputs": [
    {
     "name": "stdout",
     "output_type": "stream",
     "text": [
      "(400, 4) (400,)\n"
     ]
    }
   ],
   "source": [
    "print(X.shape, y.shape)"
   ]
  },
  {
   "cell_type": "code",
   "execution_count": null,
   "metadata": {},
   "outputs": [],
   "source": [
    "# careful of broadcasting"
   ]
  },
  {
   "cell_type": "markdown",
   "metadata": {},
   "source": [
    "## My first Logistic Regression Model\n",
    "\n",
    "#### These are some example of latex formula\n",
    "\n",
    "$ \\frac{1}{3} \\sqrt{555} \\ sin $\n",
    "\n",
    "$y^{(i)} \\sim {\\rm Ber}(p^{(i)})$ where\n",
    "$ p^{(i)}=\\sigma(X^{(i)}\\beta)$\n",
    "and $\\sigma(t)=\\frac{1}{1+exp(t)}$\n",
    "\n",
    "$ $"
   ]
  },
  {
   "cell_type": "code",
   "execution_count": 4,
   "metadata": {},
   "outputs": [],
   "source": [
    "# Calculate beta?\n",
    "# 1. Define the model\n",
    "glm_logistic = sm.GLM(y, X, family=sm.families.Binomial())\n",
    "# stats model -> sm + .NN, .Tree\n",
    "# response v + explanatory v + family : logistic regression (y~ Ber), p : default sigmoid\n",
    "\n",
    "logistic_results = glm_logistic.fit(); # beta"
   ]
  },
  {
   "cell_type": "code",
   "execution_count": 5,
   "metadata": {
    "scrolled": true
   },
   "outputs": [
    {
     "name": "stdout",
     "output_type": "stream",
     "text": [
      "                 Generalized Linear Model Regression Results                  \n",
      "==============================================================================\n",
      "Dep. Variable:                      y   No. Observations:                  400\n",
      "Model:                            GLM   Df Residuals:                      396\n",
      "Model Family:                Binomial   Df Model:                            3\n",
      "Link Function:                  logit   Scale:                          1.0000\n",
      "Method:                          IRLS   Log-Likelihood:                -229.72\n",
      "Date:                Wed, 11 Nov 2020   Deviance:                       459.44\n",
      "Time:                        17:34:44   Pearson chi2:                     399.\n",
      "No. Iterations:                     4                                         \n",
      "Covariance Type:            nonrobust                                         \n",
      "==============================================================================\n",
      "                 coef    std err          z      P>|z|      [0.025      0.975]\n",
      "------------------------------------------------------------------------------\n",
      "const         -3.4495      1.133     -3.045      0.002      -5.670      -1.229\n",
      "x1             0.0023      0.001      2.101      0.036       0.000       0.004\n",
      "x2             0.7770      0.327      2.373      0.018       0.135       1.419\n",
      "x3            -0.5600      0.127     -4.405      0.000      -0.809      -0.311\n",
      "==============================================================================\n"
     ]
    }
   ],
   "source": [
    "print(logistic_results.summary())"
   ]
  },
  {
   "cell_type": "code",
   "execution_count": null,
   "metadata": {},
   "outputs": [],
   "source": [
    "# only coef -> beta"
   ]
  },
  {
   "cell_type": "markdown",
   "metadata": {},
   "source": [
    "$beta.hat$ = logistic parameter ?\n",
    "\n",
    "$\\hat {\\beta} = (-3.4495, 0.0023, 0.7770, -0.5600)$\n",
    "\n",
    "Next goal : Calculation of $p^{(i)}$"
   ]
  },
  {
   "cell_type": "code",
   "execution_count": 14,
   "metadata": {},
   "outputs": [
    {
     "data": {
      "text/plain": [
       "array([0.18955274, 0.31778074, 0.71781361, 0.14894919, 0.0979542 ])"
      ]
     },
     "execution_count": 14,
     "metadata": {},
     "output_type": "execute_result"
    }
   ],
   "source": [
    "beta_hat=logistic_results.params # 위 값과 동일\n",
    "temp=np.dot(X, beta_hat) # = X*beta\n",
    "p_hat = 1/(1+np.exp(-temp))\n",
    "p_hat[0:5]\n",
    "# accepted probability\n",
    "# You can do the same thing the following for the calculation of p_hat"
   ]
  },
  {
   "cell_type": "code",
   "execution_count": 11,
   "metadata": {},
   "outputs": [],
   "source": [
    "yhat = logistic_results.mu # prediction for each observation\n",
    "# mean indicates probability"
   ]
  },
  {
   "cell_type": "code",
   "execution_count": 19,
   "metadata": {
    "scrolled": true
   },
   "outputs": [
    {
     "data": {
      "text/plain": [
       "array([0.18955274, 0.31778074, 0.71781361, 0.14894919, 0.0979542 ])"
      ]
     },
     "execution_count": 19,
     "metadata": {},
     "output_type": "execute_result"
    }
   ],
   "source": [
    "yhat[0:5] # 동일한 결과"
   ]
  },
  {
   "cell_type": "markdown",
   "metadata": {},
   "source": [
    "* Calculate the prediction error!"
   ]
  },
  {
   "cell_type": "code",
   "execution_count": 15,
   "metadata": {},
   "outputs": [
    {
     "data": {
      "text/plain": [
       "0.705"
      ]
     },
     "execution_count": 15,
     "metadata": {},
     "output_type": "execute_result"
    }
   ],
   "source": [
    "admission_hat = yhat>0.5 # dummy v\n",
    "np.mean(admission_hat==y)"
   ]
  },
  {
   "cell_type": "code",
   "execution_count": null,
   "metadata": {},
   "outputs": [],
   "source": [
    "admission_hat[0:5]"
   ]
  },
  {
   "cell_type": "code",
   "execution_count": 17,
   "metadata": {},
   "outputs": [
    {
     "data": {
      "text/plain": [
       "array([0., 1., 1., 1., 0.])"
      ]
     },
     "execution_count": 17,
     "metadata": {},
     "output_type": "execute_result"
    }
   ],
   "source": [
    "y[0:5]"
   ]
  },
  {
   "cell_type": "markdown",
   "metadata": {},
   "source": [
    "* Calculate the prediction error again!"
   ]
  },
  {
   "cell_type": "code",
   "execution_count": 16,
   "metadata": {},
   "outputs": [
    {
     "data": {
      "text/plain": [
       "0.705"
      ]
     },
     "execution_count": 16,
     "metadata": {},
     "output_type": "execute_result"
    }
   ],
   "source": [
    "W = logistic_results.params # Estimated parameters\n",
    "my_y_hat = 1/(1+np.exp(-np.dot(X, W)))\n",
    "my_admission_hat = my_y_hat>0.5\n",
    "np.mean(my_admission_hat==y)"
   ]
  }
 ],
 "metadata": {
  "anaconda-cloud": {},
  "kernelspec": {
   "display_name": "Python 3",
   "language": "python",
   "name": "python3"
  },
  "language_info": {
   "codemirror_mode": {
    "name": "ipython",
    "version": 3
   },
   "file_extension": ".py",
   "mimetype": "text/x-python",
   "name": "python",
   "nbconvert_exporter": "python",
   "pygments_lexer": "ipython3",
   "version": "3.7.7"
  }
 },
 "nbformat": 4,
 "nbformat_minor": 1
}
