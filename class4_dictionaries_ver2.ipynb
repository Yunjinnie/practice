{
 "cells": [
  {
   "cell_type": "markdown",
   "metadata": {},
   "source": [
    "### Dictionaries #R: Data.frame에서 \"name\""
   ]
  },
  {
   "cell_type": "markdown",
   "metadata": {},
   "source": [
    "## Data types: Story so far"
   ]
  },
  {
   "cell_type": "markdown",
   "metadata": {},
   "source": [
    "* Basic types\n",
    "    - Integers int:  \n",
    "    ..., -2, -1, 0, 1, 2, 3,...\n",
    "    - Floating point numbers float:      \n",
    "    0.05, 3.1415, 2.0, 62.8318, ...\n",
    "    - Strings str:  \n",
    "    \"hello\", ’John Doe’, ...\n",
    "* Compound data types (data that contains other data):\n",
    "    - Lists list:  \n",
    "    [1, 2, 3], [’alice’, ’bob’, 7]\n",
    "    - Tuple: (1,2,3, \"a\")\n",
    "    - Dictionaries dict:\n",
    "    - others (np.array, tuple, set)"
   ]
  },
  {
   "cell_type": "markdown",
   "metadata": {},
   "source": [
    "## Problems with lists"
   ]
  },
  {
   "cell_type": "markdown",
   "metadata": {},
   "source": [
    "Suppose we store and retrieve age of Bob and Alice:"
   ]
  },
  {
   "cell_type": "code",
   "execution_count": 20,
   "metadata": {
    "scrolled": true
   },
   "outputs": [
    {
     "ename": "TypeError",
     "evalue": "list indices must be integers or slices, not tuple",
     "output_type": "error",
     "traceback": [
      "\u001b[1;31m---------------------------------------------------------------------------\u001b[0m",
      "\u001b[1;31mTypeError\u001b[0m                                 Traceback (most recent call last)",
      "\u001b[1;32m<ipython-input-20-f98b37abe610>\u001b[0m in \u001b[0;36m<module>\u001b[1;34m\u001b[0m\n\u001b[0;32m      1\u001b[0m \u001b[0mages\u001b[0m \u001b[1;33m=\u001b[0m \u001b[1;33m[\u001b[0m\u001b[1;33m[\u001b[0m\u001b[1;34m'bob'\u001b[0m\u001b[1;33m,\u001b[0m \u001b[1;36m23\u001b[0m\u001b[1;33m]\u001b[0m\u001b[1;33m,\u001b[0m \u001b[1;33m[\u001b[0m\u001b[1;34m'alice'\u001b[0m\u001b[1;33m,\u001b[0m\u001b[1;36m25\u001b[0m\u001b[1;33m]\u001b[0m\u001b[1;33m,\u001b[0m \u001b[1;33m[\u001b[0m\u001b[1;34m'Ahn'\u001b[0m\u001b[1;33m,\u001b[0m \u001b[1;36m20\u001b[0m\u001b[1;33m]\u001b[0m\u001b[1;33m]\u001b[0m\u001b[1;33m\u001b[0m\u001b[1;33m\u001b[0m\u001b[0m\n\u001b[0;32m      2\u001b[0m \u001b[1;33m\u001b[0m\u001b[0m\n\u001b[1;32m----> 3\u001b[1;33m \u001b[0mages\u001b[0m\u001b[1;33m[\u001b[0m\u001b[0mages\u001b[0m\u001b[1;33m[\u001b[0m\u001b[1;33m:\u001b[0m\u001b[1;33m,\u001b[0m\u001b[1;36m1\u001b[0m\u001b[1;33m]\u001b[0m\u001b[1;33m==\u001b[0m\u001b[1;34m\"bob\"\u001b[0m\u001b[1;33m]\u001b[0m \u001b[1;31m#This work for R\u001b[0m\u001b[1;33m\u001b[0m\u001b[1;33m\u001b[0m\u001b[0m\n\u001b[0m",
      "\u001b[1;31mTypeError\u001b[0m: list indices must be integers or slices, not tuple"
     ]
    }
   ],
   "source": [
    "ages = [['bob', 23], ['alice',25], ['Ahn', 20]]\n",
    "\n",
    "ages[ages[:,1]==\"bob\"] #This work for R"
   ]
  },
  {
   "cell_type": "markdown",
   "metadata": {},
   "source": [
    "Have to remember Bob is index 0 and Alice is index 1\n",
    "\n",
    "*  Not going to work when there are lots of people.\n",
    "*  Would be much easier to not need to remember.  \n",
    "\n",
    "Instead use dictionaries"
   ]
  },
  {
   "cell_type": "code",
   "execution_count": 1,
   "metadata": {},
   "outputs": [
    {
     "name": "stdout",
     "output_type": "stream",
     "text": [
      "23\n",
      "25\n"
     ]
    }
   ],
   "source": [
    "ages = { 'bob': 23, 'alice': 25, 'Ahn':50 } # key:value - dictionary\n",
    "print(ages['bob'])\n",
    "print(ages['alice'])"
   ]
  },
  {
   "cell_type": "markdown",
   "metadata": {},
   "source": [
    "What are dictionaries?"
   ]
  },
  {
   "cell_type": "markdown",
   "metadata": {},
   "source": [
    "* Values in a dictionary can be found using a key.\n",
    "    - Values in a dictionary can be anything.\n",
    "    - Keys can be anything that is immutable(does not change).\n",
    "        - e.g., strings, integers, floats, tuples, sets.\n",
    "* A dictionary uses curly braces: {}"
   ]
  },
  {
   "cell_type": "code",
   "execution_count": 112,
   "metadata": {},
   "outputs": [],
   "source": [
    "empty_dict = {}\n",
    "dict1 = {100: 'hundred', 1: 'one', 10: 'ten'}\n",
    "dict2 = {'bob':['england', -10],\n",
    "         'alice':['england', -5],\n",
    "         'mallory': ['usa',100]}"
   ]
  },
  {
   "cell_type": "code",
   "execution_count": 3,
   "metadata": {},
   "outputs": [
    {
     "data": {
      "text/plain": [
       "10"
      ]
     },
     "execution_count": 3,
     "metadata": {},
     "output_type": "execute_result"
    }
   ],
   "source": [
    "dict3 = {1:{\"a\":10, \"b\":20},   2:{\"a\":50, \"b\":100}}\n",
    "dict3[1][\"a\"]"
   ]
  },
  {
   "cell_type": "code",
   "execution_count": 4,
   "metadata": {},
   "outputs": [
    {
     "data": {
      "text/plain": [
       "50"
      ]
     },
     "execution_count": 4,
     "metadata": {},
     "output_type": "execute_result"
    }
   ],
   "source": [
    "dict3[2][\"a\"]"
   ]
  },
  {
   "cell_type": "markdown",
   "metadata": {},
   "source": [
    "## Things dictionaries can do"
   ]
  },
  {
   "cell_type": "markdown",
   "metadata": {},
   "source": [
    "* Dictionaries are mutable. You can change them.\n",
    "* Keys find associated values quickly.\n",
    "* Associations between keys and values can be added, deleted and changed.\n",
    "* Dictionaries are often useful in Python code:\n",
    "    - Efficiently associate a key with a value."
   ]
  },
  {
   "cell_type": "markdown",
   "metadata": {},
   "source": [
    "## Length and missing items"
   ]
  },
  {
   "cell_type": "markdown",
   "metadata": {},
   "source": [
    "The number of items in a dictionary can be determined using the len() function"
   ]
  },
  {
   "cell_type": "code",
   "execution_count": 5,
   "metadata": {},
   "outputs": [
    {
     "name": "stdout",
     "output_type": "stream",
     "text": [
      "{100: 'hundred', 1: 'one', 10: 'ten'}\n"
     ]
    },
    {
     "data": {
      "text/plain": [
       "3"
      ]
     },
     "execution_count": 5,
     "metadata": {},
     "output_type": "execute_result"
    }
   ],
   "source": [
    "print(dict1)\n",
    "len(dict1)"
   ]
  },
  {
   "cell_type": "markdown",
   "metadata": {},
   "source": [
    "Trying to retrieve an item using a key that is not in the\n",
    "dictionary throws an KeyError:"
   ]
  },
  {
   "cell_type": "code",
   "execution_count": 6,
   "metadata": {},
   "outputs": [
    {
     "name": "stdout",
     "output_type": "stream",
     "text": [
      "{100: 'hundred', 1: 'one', 10: 'ten'}\n"
     ]
    },
    {
     "ename": "KeyError",
     "evalue": "1000",
     "output_type": "error",
     "traceback": [
      "\u001b[1;31m---------------------------------------------------------------------------\u001b[0m",
      "\u001b[1;31mKeyError\u001b[0m                                  Traceback (most recent call last)",
      "\u001b[1;32m<ipython-input-6-70adea7e3b53>\u001b[0m in \u001b[0;36m<module>\u001b[1;34m\u001b[0m\n\u001b[0;32m      1\u001b[0m \u001b[0mprint\u001b[0m\u001b[1;33m(\u001b[0m\u001b[0mdict1\u001b[0m\u001b[1;33m)\u001b[0m\u001b[1;33m\u001b[0m\u001b[1;33m\u001b[0m\u001b[0m\n\u001b[1;32m----> 2\u001b[1;33m \u001b[0mdict1\u001b[0m\u001b[1;33m[\u001b[0m\u001b[1;36m1000\u001b[0m\u001b[1;33m]\u001b[0m \u001b[1;31m# 1000 is not a key\u001b[0m\u001b[1;33m\u001b[0m\u001b[1;33m\u001b[0m\u001b[0m\n\u001b[0m",
      "\u001b[1;31mKeyError\u001b[0m: 1000"
     ]
    }
   ],
   "source": [
    "print(dict1)\n",
    "dict1[1000] # 1000 is not a key "
   ]
  },
  {
   "cell_type": "markdown",
   "metadata": {},
   "source": [
    "## Keys and values"
   ]
  },
  {
   "cell_type": "markdown",
   "metadata": {},
   "source": [
    "A list of keys in a dictionary can be found using the .keys() member function:"
   ]
  },
  {
   "cell_type": "code",
   "execution_count": 7,
   "metadata": {},
   "outputs": [
    {
     "name": "stdout",
     "output_type": "stream",
     "text": [
      "{100: 'hundred', 1: 'one', 10: 'ten'}\n",
      "dict_keys([100, 1, 10])\n"
     ]
    }
   ],
   "source": [
    "print(dict1)\n",
    "print(dict1.keys())"
   ]
  },
  {
   "cell_type": "markdown",
   "metadata": {},
   "source": [
    "Likewise, a list of values in a dictionary can be found using\n",
    "the .values() member function:"
   ]
  },
  {
   "cell_type": "code",
   "execution_count": 8,
   "metadata": {},
   "outputs": [
    {
     "name": "stdout",
     "output_type": "stream",
     "text": [
      "dict_values(['hundred', 'one', 'ten'])\n"
     ]
    }
   ],
   "source": [
    "print(dict1.values())"
   ]
  },
  {
   "cell_type": "markdown",
   "metadata": {},
   "source": [
    "You can also get both together, using the .items() member function:"
   ]
  },
  {
   "cell_type": "code",
   "execution_count": 9,
   "metadata": {
    "scrolled": true
   },
   "outputs": [
    {
     "data": {
      "text/plain": [
       "[(100, 'hundred'), (1, 'one'), (10, 'ten')]"
      ]
     },
     "execution_count": 9,
     "metadata": {},
     "output_type": "execute_result"
    }
   ],
   "source": [
    "list(dict1.items())"
   ]
  },
  {
   "cell_type": "code",
   "execution_count": 114,
   "metadata": {},
   "outputs": [
    {
     "name": "stdout",
     "output_type": "stream",
     "text": [
      "dict_keys([100, 1, 10])\n",
      "My key is 100, and the corresponding item is hundred\n",
      "My key is 1, and the corresponding item is one\n",
      "My key is 10, and the corresponding item is ten\n"
     ]
    }
   ],
   "source": [
    "print(dict1.keys())\n",
    "for i in dict1.keys():\n",
    "    print(\"My key is {}, and the corresponding item is {}\".format(i, dict1[i]))"
   ]
  },
  {
   "cell_type": "code",
   "execution_count": 11,
   "metadata": {},
   "outputs": [
    {
     "name": "stdout",
     "output_type": "stream",
     "text": [
      "dict_items([(100, 'hundred'), (1, 'one'), (10, 'ten')])\n",
      "(100, 'hundred')\n",
      "My key is 100, and the corresponding item is hundred\n",
      "(1, 'one')\n",
      "My key is 1, and the corresponding item is one\n",
      "(10, 'ten')\n",
      "My key is 10, and the corresponding item is ten\n"
     ]
    }
   ],
   "source": [
    "print(dict1.items())\n",
    "for i in dict1.items(): \n",
    "    print(i)\n",
    "    print(\"My key is {}, and the corresponding item is {}\".format(i[0], i[1]))"
   ]
  },
  {
   "cell_type": "code",
   "execution_count": 12,
   "metadata": {},
   "outputs": [
    {
     "name": "stdout",
     "output_type": "stream",
     "text": [
      "current key is 100 and corresponding value is hundred\n",
      "current key is 1 and corresponding value is one\n",
      "current key is 10 and corresponding value is ten\n"
     ]
    }
   ],
   "source": [
    "for mykey, myvalue in dict1.items(): #[(100, 'hundred'), (1, 'one'), (10, 'ten')]\n",
    "    print(\"current key is {0} and corresponding value is {1}\".format(mykey, myvalue))"
   ]
  },
  {
   "cell_type": "markdown",
   "metadata": {},
   "source": [
    "## Testing for keys"
   ]
  },
  {
   "cell_type": "markdown",
   "metadata": {},
   "source": [
    "One can efficiently test if a key is in a dictionary: use the in operator."
   ]
  },
  {
   "cell_type": "code",
   "execution_count": 14,
   "metadata": {
    "scrolled": true
   },
   "outputs": [
    {
     "name": "stdout",
     "output_type": "stream",
     "text": [
      "{100: 'hundred', 1: 'one', 10: 'ten'}\n",
      "True\n",
      "True\n"
     ]
    }
   ],
   "source": [
    "print(dict1)\n",
    "print(100 in dict1)\n",
    "print(100 in dict1.keys())"
   ]
  },
  {
   "cell_type": "markdown",
   "metadata": {},
   "source": [
    "## Adding items"
   ]
  },
  {
   "cell_type": "code",
   "execution_count": 29,
   "metadata": {},
   "outputs": [
    {
     "name": "stdout",
     "output_type": "stream",
     "text": [
      "{100: 'hundred', 1: 'one', 10: 'ten', 1000: 'thousand'}\n"
     ]
    }
   ],
   "source": [
    "dict1[1000] = 'thousand' # adding is the same as data.frame in R\n",
    "print(dict1)"
   ]
  },
  {
   "cell_type": "code",
   "execution_count": 17,
   "metadata": {},
   "outputs": [
    {
     "data": {
      "text/plain": [
       "{'bob': ['england', -10], 'alice': ['england', -5], 'mallory': ['usa', 100]}"
      ]
     },
     "execution_count": 17,
     "metadata": {},
     "output_type": "execute_result"
    }
   ],
   "source": [
    "dict2"
   ]
  },
  {
   "cell_type": "code",
   "execution_count": 26,
   "metadata": {},
   "outputs": [
    {
     "name": "stdout",
     "output_type": "stream",
     "text": [
      "{'bob': ['england', -10], 'alice': ['england', -5], 'mallory': ['usa', 100], 'jaeyoun': ['korea', 20]}\n"
     ]
    }
   ],
   "source": [
    "#print(1000 in dict1) # testing for key\n",
    "\n",
    "dict2['jaeyoun'] = ['korea', 20] # adding item to dict2\n",
    "print(dict2)"
   ]
  },
  {
   "cell_type": "markdown",
   "metadata": {},
   "source": [
    "You can add items by using a key that has not been used yet."
   ]
  },
  {
   "cell_type": "markdown",
   "metadata": {},
   "source": [
    "## Modifying items"
   ]
  },
  {
   "cell_type": "markdown",
   "metadata": {},
   "source": [
    "Items can be modified from a dictionary just like in a list:"
   ]
  },
  {
   "cell_type": "code",
   "execution_count": 19,
   "metadata": {},
   "outputs": [
    {
     "data": {
      "text/plain": [
       "{'bob': ['england', -10],\n",
       " 'alice': ['england', -5],\n",
       " 'mallory': ['usa', 100],\n",
       " 'jaeyoun': ['korea', 20]}"
      ]
     },
     "execution_count": 19,
     "metadata": {},
     "output_type": "execute_result"
    }
   ],
   "source": [
    "dict2"
   ]
  },
  {
   "cell_type": "code",
   "execution_count": 20,
   "metadata": {},
   "outputs": [
    {
     "name": "stdout",
     "output_type": "stream",
     "text": [
      "['england', -5]\n"
     ]
    }
   ],
   "source": [
    "dict2['bob'] = ['england', -5]\n",
    "print(dict2['bob'])"
   ]
  },
  {
   "cell_type": "code",
   "execution_count": 21,
   "metadata": {},
   "outputs": [
    {
     "name": "stdout",
     "output_type": "stream",
     "text": [
      "{'bob': ['england', -100], 'alice': ['england', -5], 'mallory': ['usa', 100], 'jaeyoun': ['korea', 20]}\n"
     ]
    }
   ],
   "source": [
    "dict2['bob'][1]=-100\n",
    "print(dict2)"
   ]
  },
  {
   "cell_type": "markdown",
   "metadata": {},
   "source": [
    "## Removing items"
   ]
  },
  {
   "cell_type": "markdown",
   "metadata": {},
   "source": [
    "Similarly, items can be removed from a dictionary using the del operator:"
   ]
  },
  {
   "cell_type": "code",
   "execution_count": 27,
   "metadata": {},
   "outputs": [
    {
     "name": "stdout",
     "output_type": "stream",
     "text": [
      "True\n",
      "{'bob': ['england', -10], 'alice': ['england', -5], 'mallory': ['usa', 100]}\n"
     ]
    }
   ],
   "source": [
    "print('jaeyoun' in dict2.keys())\n",
    "del dict2['jaeyoun']\n",
    "print(dict2)"
   ]
  },
  {
   "cell_type": "markdown",
   "metadata": {},
   "source": [
    "## Iterating over items"
   ]
  },
  {
   "cell_type": "markdown",
   "metadata": {},
   "source": [
    "Two common ways of iterating over the items of a dictionary:"
   ]
  },
  {
   "cell_type": "code",
   "execution_count": 28,
   "metadata": {},
   "outputs": [
    {
     "data": {
      "text/plain": [
       "dict_items([(100, 'hundred'), (1, 'one'), (10, 'ten')])"
      ]
     },
     "execution_count": 28,
     "metadata": {},
     "output_type": "execute_result"
    }
   ],
   "source": [
    "dict1.items()"
   ]
  },
  {
   "cell_type": "code",
   "execution_count": 30,
   "metadata": {},
   "outputs": [
    {
     "name": "stdout",
     "output_type": "stream",
     "text": [
      "{100: 'hundred', 1: 'one', 10: 'ten', 1000: 'thousand'}\n",
      "key=100 and value=hundred\n",
      "key=1 and value=one\n",
      "key=10 and value=ten\n",
      "key=1000 and value=thousand\n"
     ]
    }
   ],
   "source": [
    "print(dict1)\n",
    "\n",
    "for a in dict1.keys():\n",
    "    print(\"key={0} and value={1}\".format(a, dict1[a]))"
   ]
  },
  {
   "cell_type": "code",
   "execution_count": 31,
   "metadata": {},
   "outputs": [
    {
     "name": "stdout",
     "output_type": "stream",
     "text": [
      "key=100 and value=hundred\n",
      "key=1 and value=one\n",
      "key=10 and value=ten\n",
      "key=1000 and value=thousand\n"
     ]
    }
   ],
   "source": [
    "for a in dict1:  #try to avoid because it is a bit vague\n",
    "    print(\"key={0} and value={1}\".format(a, dict1[a]))"
   ]
  },
  {
   "cell_type": "code",
   "execution_count": 32,
   "metadata": {},
   "outputs": [
    {
     "name": "stdout",
     "output_type": "stream",
     "text": [
      "key=100 and value=hundred\n",
      "key=1 and value=one\n",
      "key=10 and value=ten\n",
      "key=1000 and value=thousand\n"
     ]
    }
   ],
   "source": [
    "for a in dict1.items():\n",
    "    print(\"key={0} and value={1}\".format(a[0], a[1]))"
   ]
  },
  {
   "cell_type": "code",
   "execution_count": 33,
   "metadata": {},
   "outputs": [
    {
     "name": "stdout",
     "output_type": "stream",
     "text": [
      "key=100 and value=hundred\n",
      "key=1 and value=one\n",
      "key=10 and value=ten\n",
      "key=1000 and value=thousand\n"
     ]
    }
   ],
   "source": [
    "for a, b in dict1.items():\n",
    "    print(\"key={0} and value={1}\".format(a, b))"
   ]
  },
  {
   "cell_type": "code",
   "execution_count": 34,
   "metadata": {},
   "outputs": [
    {
     "name": "stdout",
     "output_type": "stream",
     "text": [
      "100 3 0\n"
     ]
    }
   ],
   "source": [
    "a, b, c = [100, 3, 0] # a=100; b=3; c=0\n",
    "print(a, b, c)"
   ]
  },
  {
   "cell_type": "markdown",
   "metadata": {},
   "source": [
    "* Example 1: Write a function that prints key-value pairs of a dictionary."
   ]
  },
  {
   "cell_type": "code",
   "execution_count": 35,
   "metadata": {},
   "outputs": [
    {
     "name": "stdout",
     "output_type": "stream",
     "text": [
      "key = 100 and value=hundred\n",
      "key = 1 and value=one\n",
      "key = 10 and value=ten\n",
      "key = 1000 and value=thousand\n"
     ]
    }
   ],
   "source": [
    "def print_dic(my_dic):\n",
    "    for i in my_dic.items():\n",
    "        print(\"key = {} and value={}\".format(i[0], i[1]))\n",
    "\n",
    "print_dic(dict1)"
   ]
  },
  {
   "cell_type": "markdown",
   "metadata": {},
   "source": [
    "* Example 2: Write a function that takes a list, and returns a dictionary with keys the elements of the list and as\n",
    "value the number of occurances of that element in the list."
   ]
  },
  {
   "cell_type": "code",
   "execution_count": 36,
   "metadata": {},
   "outputs": [
    {
     "name": "stdout",
     "output_type": "stream",
     "text": [
      "{0: 'apple', 1: 'pear', 2: 'water'}\n"
     ]
    }
   ],
   "source": [
    "def list_to_dic(my_list):\n",
    "    my_dic = {}\n",
    "    n=len(my_list)\n",
    "    for i in range(n):\n",
    "        my_dic[i]=my_list[i]\n",
    "    return my_dic\n",
    "\n",
    "a = list_to_dic([\"apple\", \"pear\", \"water\"]) \n",
    "print(a)"
   ]
  },
  {
   "cell_type": "markdown",
   "metadata": {},
   "source": [
    "# Object and class"
   ]
  },
  {
   "cell_type": "code",
   "execution_count": null,
   "metadata": {},
   "outputs": [],
   "source": [
    "# list and dictionary are examples of class\n",
    "# a={1: \"win\", 0:\"lose\"} is an object in the dictionary class. \n",
    "# This object has its own function such as items() or keys().\n",
    "# We can use \"Class\" to make more classes: \n",
    "# once class is defined, we can create object in the defined class.\n",
    "\n",
    "\n",
    "\n",
    "# 사용자 정의 Object를 만들고 싶다. (내가 만든 함수계산허용)\n",
    "# Class 는 Object를 만들어 내는 (함수)"
   ]
  },
  {
   "cell_type": "code",
   "execution_count": 1,
   "metadata": {},
   "outputs": [
    {
     "name": "stdout",
     "output_type": "stream",
     "text": [
      "8\n"
     ]
    }
   ],
   "source": [
    "def myadd(a,b):\n",
    "    return a+b\n",
    "c=myadd(3,5)\n",
    "print(c)"
   ]
  },
  {
   "cell_type": "code",
   "execution_count": 46,
   "metadata": {},
   "outputs": [],
   "source": [
    "class myfirstclass:\n",
    "    secret = [3.142, 1.414]\n",
    "    def mysum(self, a, b):\n",
    "        temp=a+b\n",
    "        print('{0}, {1}, {2}'.format(self.secret[0], self.secret[1], temp))\n",
    "class mysecondclass:\n",
    "    #secret=[]\n",
    "    def mysecret(self, c, d):\n",
    "        self.secret=[c,d]\n",
    "    def mysum(self, a,b):\n",
    "        temp=a+b\n",
    "        print('{0}, {1}, {2}'.format(self.secret[0], self.secret[1], temp))\n",
    "    def mysum_secret(self, a,b):\n",
    "        temp1=self.secret[0]\n",
    "        temp2=self.secret[1]\n",
    "        temp=temp1+temp2+a+b\n",
    "        return temp\n",
    "    \n",
    "class mythirdclass:\n",
    "    def __init__(self, a,b):\n",
    "        self.secret=[a,b]\n",
    "    def mysum(self, a,b):\n",
    "        temp=a+b\n",
    "        print('{0}, {1}, {2}'.format(self.secret[0], self.secret[1], temp))"
   ]
  },
  {
   "cell_type": "code",
   "execution_count": 10,
   "metadata": {},
   "outputs": [],
   "source": [
    "c1=myfirstclass()"
   ]
  },
  {
   "cell_type": "code",
   "execution_count": 11,
   "metadata": {},
   "outputs": [
    {
     "data": {
      "text/plain": [
       "[3.142, 1.414]"
      ]
     },
     "execution_count": 11,
     "metadata": {},
     "output_type": "execute_result"
    }
   ],
   "source": [
    "c1.secret # 이미 내장"
   ]
  },
  {
   "cell_type": "code",
   "execution_count": 12,
   "metadata": {},
   "outputs": [
    {
     "name": "stdout",
     "output_type": "stream",
     "text": [
      "3.142, 1.414, 8\n"
     ]
    }
   ],
   "source": [
    "c1.mysum(3, 5)"
   ]
  },
  {
   "cell_type": "code",
   "execution_count": 47,
   "metadata": {},
   "outputs": [],
   "source": [
    "c2=mysecondclass()"
   ]
  },
  {
   "cell_type": "code",
   "execution_count": 48,
   "metadata": {},
   "outputs": [
    {
     "data": {
      "text/plain": [
       "[3, 5]"
      ]
     },
     "execution_count": 48,
     "metadata": {},
     "output_type": "execute_result"
    }
   ],
   "source": [
    "c2.mysecret(3,5) # -> 값 대입 # ==mysecret(c2,3,5)\n",
    "c2.secret"
   ]
  },
  {
   "cell_type": "code",
   "execution_count": 49,
   "metadata": {},
   "outputs": [
    {
     "data": {
      "text/plain": [
       "16"
      ]
     },
     "execution_count": 49,
     "metadata": {},
     "output_type": "execute_result"
    }
   ],
   "source": [
    "c2.mysum_secret(3,5) # 위에꺼 먼저 실행해서 secret을 넣어줘야 함"
   ]
  },
  {
   "cell_type": "code",
   "execution_count": 20,
   "metadata": {},
   "outputs": [
    {
     "ename": "TypeError",
     "evalue": "__init__() missing 2 required positional arguments: 'a' and 'b'",
     "output_type": "error",
     "traceback": [
      "\u001b[1;31m---------------------------------------------------------------------------\u001b[0m",
      "\u001b[1;31mTypeError\u001b[0m                                 Traceback (most recent call last)",
      "\u001b[1;32m<ipython-input-20-9d74355ff1ad>\u001b[0m in \u001b[0;36m<module>\u001b[1;34m\u001b[0m\n\u001b[1;32m----> 1\u001b[1;33m \u001b[0mc3\u001b[0m\u001b[1;33m=\u001b[0m\u001b[0mmythirdclass\u001b[0m\u001b[1;33m(\u001b[0m\u001b[1;33m)\u001b[0m\u001b[1;33m\u001b[0m\u001b[1;33m\u001b[0m\u001b[0m\n\u001b[0m",
      "\u001b[1;31mTypeError\u001b[0m: __init__() missing 2 required positional arguments: 'a' and 'b'"
     ]
    }
   ],
   "source": [
    "c3=mythirdclass()"
   ]
  },
  {
   "cell_type": "code",
   "execution_count": 21,
   "metadata": {},
   "outputs": [],
   "source": [
    "c3=mythirdclass(3,5)"
   ]
  },
  {
   "cell_type": "code",
   "execution_count": 22,
   "metadata": {},
   "outputs": [
    {
     "data": {
      "text/plain": [
       "[3, 5]"
      ]
     },
     "execution_count": 22,
     "metadata": {},
     "output_type": "execute_result"
    }
   ],
   "source": [
    "c3.secret"
   ]
  },
  {
   "cell_type": "code",
   "execution_count": 50,
   "metadata": {},
   "outputs": [
    {
     "name": "stdout",
     "output_type": "stream",
     "text": [
      "3, 5, 8\n"
     ]
    }
   ],
   "source": [
    "c3.mysum(3,5)"
   ]
  },
  {
   "cell_type": "code",
   "execution_count": 5,
   "metadata": {},
   "outputs": [
    {
     "name": "stdout",
     "output_type": "stream",
     "text": [
      "dict_items([(1, 'win'), (0, 'lose')])\n"
     ]
    },
    {
     "ename": "AttributeError",
     "evalue": "'list' object has no attribute 'items'",
     "output_type": "error",
     "traceback": [
      "\u001b[1;31m---------------------------------------------------------------------------\u001b[0m",
      "\u001b[1;31mAttributeError\u001b[0m                            Traceback (most recent call last)",
      "\u001b[1;32m<ipython-input-5-588a9d55d47a>\u001b[0m in \u001b[0;36m<module>\u001b[1;34m\u001b[0m\n\u001b[0;32m      2\u001b[0m \u001b[0mprint\u001b[0m\u001b[1;33m(\u001b[0m\u001b[0ma\u001b[0m\u001b[1;33m.\u001b[0m\u001b[0mitems\u001b[0m\u001b[1;33m(\u001b[0m\u001b[1;33m)\u001b[0m\u001b[1;33m)\u001b[0m\u001b[1;33m\u001b[0m\u001b[1;33m\u001b[0m\u001b[0m\n\u001b[0;32m      3\u001b[0m \u001b[0mb\u001b[0m\u001b[1;33m=\u001b[0m\u001b[1;33m[\u001b[0m\u001b[1;36m1\u001b[0m\u001b[1;33m,\u001b[0m\u001b[1;36m2\u001b[0m\u001b[1;33m,\u001b[0m\u001b[1;36m3\u001b[0m\u001b[1;33m]\u001b[0m\u001b[1;33m\u001b[0m\u001b[1;33m\u001b[0m\u001b[0m\n\u001b[1;32m----> 4\u001b[1;33m \u001b[0mb\u001b[0m\u001b[1;33m.\u001b[0m\u001b[0mitems\u001b[0m\u001b[1;33m(\u001b[0m\u001b[1;33m)\u001b[0m\u001b[1;33m\u001b[0m\u001b[1;33m\u001b[0m\u001b[0m\n\u001b[0m",
      "\u001b[1;31mAttributeError\u001b[0m: 'list' object has no attribute 'items'"
     ]
    }
   ],
   "source": [
    "a={1: \"win\", 0:\"lose\"} #object in dictionary class\n",
    "a.items() #<- can be understood as items(a) \n",
    "# class has an object and its own function \n",
    "#b=[1,2,3]\n",
    "#b.items()\n",
    "class dictionary:\n",
    "    def items(self):\n",
    "        ^^^^^^^"
   ]
  },
  {
   "cell_type": "code",
   "execution_count": 6,
   "metadata": {},
   "outputs": [],
   "source": [
    "class myfirstclass:\n",
    "    secret=[3.142, 1.414]\n",
    "    def mysum(self, a,b):\n",
    "        return a+b"
   ]
  },
  {
   "cell_type": "code",
   "execution_count": 7,
   "metadata": {},
   "outputs": [],
   "source": [
    "o1 = myfirstclass()"
   ]
  },
  {
   "cell_type": "code",
   "execution_count": 9,
   "metadata": {},
   "outputs": [
    {
     "data": {
      "text/plain": [
       "[3.142, 1.414]"
      ]
     },
     "execution_count": 9,
     "metadata": {},
     "output_type": "execute_result"
    }
   ],
   "source": [
    "o1.secret"
   ]
  },
  {
   "cell_type": "code",
   "execution_count": 10,
   "metadata": {},
   "outputs": [
    {
     "data": {
      "text/plain": [
       "8"
      ]
     },
     "execution_count": 10,
     "metadata": {},
     "output_type": "execute_result"
    }
   ],
   "source": [
    "o1.mysum(3, 5)"
   ]
  },
  {
   "cell_type": "code",
   "execution_count": 51,
   "metadata": {},
   "outputs": [],
   "source": [
    "class mysecondclass:\n",
    "    def mysecret(self, c, d):\n",
    "        self.secret = [c,d]\n",
    "    def mysum_secret(self, a, b):\n",
    "        temp1= self.secret[0]\n",
    "        temp2= self.secret[1]\n",
    "        temp = temp1 +temp2+a+b                              \n",
    "        return temp"
   ]
  },
  {
   "cell_type": "code",
   "execution_count": 52,
   "metadata": {},
   "outputs": [],
   "source": [
    "o1 = mysecondclass()"
   ]
  },
  {
   "cell_type": "code",
   "execution_count": 54,
   "metadata": {},
   "outputs": [],
   "source": [
    "o1.mysecret(3,5)"
   ]
  },
  {
   "cell_type": "code",
   "execution_count": 55,
   "metadata": {},
   "outputs": [
    {
     "data": {
      "text/plain": [
       "[3, 5]"
      ]
     },
     "execution_count": 55,
     "metadata": {},
     "output_type": "execute_result"
    }
   ],
   "source": [
    "o1.secret"
   ]
  },
  {
   "cell_type": "code",
   "execution_count": 56,
   "metadata": {},
   "outputs": [
    {
     "data": {
      "text/plain": [
       "16"
      ]
     },
     "execution_count": 56,
     "metadata": {},
     "output_type": "execute_result"
    }
   ],
   "source": [
    "o1.mysum_secret(3, 5)"
   ]
  },
  {
   "cell_type": "code",
   "execution_count": 44,
   "metadata": {},
   "outputs": [
    {
     "data": {
      "text/plain": [
       "28"
      ]
     },
     "execution_count": 44,
     "metadata": {},
     "output_type": "execute_result"
    }
   ],
   "source": [
    "o2 = mysecondclass()\n",
    "o2.mysecret(3,5)\n",
    "o2.mysum_secret(10, 10)"
   ]
  },
  {
   "cell_type": "code",
   "execution_count": 14,
   "metadata": {},
   "outputs": [],
   "source": [
    "class mythird_class:\n",
    "    def __init__(self, c,d):    \n",
    "        self.secret = [c,d]\n",
    "    def mysum_secret(self, a, b):\n",
    "        temp1= self.secret[0]\n",
    "        temp2= self.secret[1]\n",
    "        temp = temp1 +temp2+a+b                              \n",
    "        return temp"
   ]
  },
  {
   "cell_type": "code",
   "execution_count": 16,
   "metadata": {},
   "outputs": [],
   "source": [
    "o3 = mythird_class(3.14, 1.414)"
   ]
  },
  {
   "cell_type": "code",
   "execution_count": 17,
   "metadata": {},
   "outputs": [
    {
     "data": {
      "text/plain": [
       "[3.14, 1.414]"
      ]
     },
     "execution_count": 17,
     "metadata": {},
     "output_type": "execute_result"
    }
   ],
   "source": [
    "o3.secret"
   ]
  },
  {
   "cell_type": "code",
   "execution_count": 53,
   "metadata": {},
   "outputs": [],
   "source": [
    "o3 = mythird_class(100, 200)"
   ]
  },
  {
   "cell_type": "code",
   "execution_count": 54,
   "metadata": {},
   "outputs": [
    {
     "data": {
      "text/plain": [
       "2300"
      ]
     },
     "execution_count": 54,
     "metadata": {},
     "output_type": "execute_result"
    }
   ],
   "source": [
    "o3.mysum_secret(1000, 1000)"
   ]
  },
  {
   "cell_type": "code",
   "execution_count": 6,
   "metadata": {},
   "outputs": [
    {
     "name": "stdout",
     "output_type": "stream",
     "text": [
      "8\n"
     ]
    }
   ],
   "source": [
    "def myadd(a,b):\n",
    "    return a+b\n",
    "\n",
    "c=myadd(3,5)\n",
    "print(c)\n",
    "\n",
    "class myfirstclass:\n",
    "    secret = [3.142, 1.414]\n",
    "    def mysum(self, a,b):\n",
    "        temp = a+b\n",
    "        print(\"My secret numbers are {0} and {1}, and your sum is {2}\".format(self.secret[0],self.secret[1], temp))\n",
    "\n",
    "class mysecondclass:\n",
    "    secret=[]\n",
    "    def mysecret(self, a,b):\n",
    "        self.secret=[a,b]\n",
    "    def mysum(self, a,b):\n",
    "        temp = a+b\n",
    "        print(\"My secret numbers are {0} and {1}, and your sum is {2}\".format(self.secret[0],self.secret[1], temp))\n",
    "\n",
    "class mythirdclass:\n",
    "    #secret=[]\n",
    "    def __init__(self, a,b):\n",
    "        self.secret=[a,b]\n",
    "    def mysum(self, a,b):\n",
    "        temp = a+b\n",
    "        print(\"My secret numbers are {0} and {1}, and your sum is {2}\".format(self.secret[0],self.secret[1], temp))\n",
    "        "
   ]
  },
  {
   "cell_type": "code",
   "execution_count": 8,
   "metadata": {},
   "outputs": [
    {
     "name": "stdout",
     "output_type": "stream",
     "text": [
      "My secret numbers are 3.142 and 1.414, and your sum is 20\n"
     ]
    }
   ],
   "source": [
    "o1 = myfirstclass()\n",
    "o1.mysum(10,10)"
   ]
  },
  {
   "cell_type": "code",
   "execution_count": 11,
   "metadata": {},
   "outputs": [
    {
     "name": "stdout",
     "output_type": "stream",
     "text": [
      "My secret numbers are 5 and 5, and your sum is 2\n"
     ]
    }
   ],
   "source": [
    "o2 = mysecondclass()\n",
    "o2.mysecret(5,5)\n",
    "o2.mysum(1,1)"
   ]
  },
  {
   "cell_type": "code",
   "execution_count": 103,
   "metadata": {},
   "outputs": [
    {
     "name": "stdout",
     "output_type": "stream",
     "text": [
      "My secret numbers are Five and Three, and your sum is 300\n"
     ]
    }
   ],
   "source": [
    "o4 = mythirdclass(\"Five\", \"Three\")\n",
    "o4.mysum(100, 200)\n",
    "\n",
    "#mysum(50, 10) #Error"
   ]
  },
  {
   "cell_type": "markdown",
   "metadata": {},
   "source": [
    "* Example 1:"
   ]
  },
  {
   "cell_type": "code",
   "execution_count": null,
   "metadata": {},
   "outputs": [],
   "source": [
    "# 1> a=FourCal() # create class\n",
    "# 2> a.setdata(5, 8) # use function in the class (set the data)         \n",
    "# 3> Use more functions\n",
    "#    a.sum()\n",
    "#    a.mul()\n",
    "#    a.sub()\n",
    "#    a.div()\n",
    "# 4> Use __init__ do the above without step in 2>"
   ]
  },
  {
   "cell_type": "code",
   "execution_count": 59,
   "metadata": {},
   "outputs": [],
   "source": [
    "class FourCal:\n",
    "    def setdata(self, a,b):\n",
    "        self.unique_numbers = [a,b]\n",
    "    def sum(self):\n",
    "        return self.unique_numbers[0]+self.unique_numbers[1]\n",
    "    def mul(self):\n",
    "        return self.unique_numbers[0] * self.unique_numbers[1]"
   ]
  },
  {
   "cell_type": "code",
   "execution_count": 60,
   "metadata": {},
   "outputs": [
    {
     "data": {
      "text/plain": [
       "[3, 4]"
      ]
     },
     "execution_count": 60,
     "metadata": {},
     "output_type": "execute_result"
    }
   ],
   "source": [
    "o1 = FourCal()\n",
    "o1.setdata(3,4)\n",
    "o1.unique_numbers"
   ]
  },
  {
   "cell_type": "code",
   "execution_count": 74,
   "metadata": {},
   "outputs": [
    {
     "data": {
      "text/plain": [
       "7"
      ]
     },
     "execution_count": 74,
     "metadata": {},
     "output_type": "execute_result"
    }
   ],
   "source": [
    "o1.sum()"
   ]
  },
  {
   "cell_type": "code",
   "execution_count": 75,
   "metadata": {},
   "outputs": [
    {
     "data": {
      "text/plain": [
       "12"
      ]
     },
     "execution_count": 75,
     "metadata": {},
     "output_type": "execute_result"
    }
   ],
   "source": [
    "o1.mul()"
   ]
  },
  {
   "cell_type": "code",
   "execution_count": 62,
   "metadata": {},
   "outputs": [
    {
     "ename": "TypeError",
     "evalue": "FourCal() takes no arguments",
     "output_type": "error",
     "traceback": [
      "\u001b[1;31m---------------------------------------------------------------------------\u001b[0m",
      "\u001b[1;31mTypeError\u001b[0m                                 Traceback (most recent call last)",
      "\u001b[1;32m<ipython-input-62-d7875441e911>\u001b[0m in \u001b[0;36m<module>\u001b[1;34m\u001b[0m\n\u001b[1;32m----> 1\u001b[1;33m \u001b[0mo1\u001b[0m \u001b[1;33m=\u001b[0m \u001b[0mFourCal\u001b[0m\u001b[1;33m(\u001b[0m\u001b[1;36m100\u001b[0m\u001b[1;33m,\u001b[0m \u001b[1;36m200\u001b[0m\u001b[1;33m)\u001b[0m\u001b[1;33m\u001b[0m\u001b[1;33m\u001b[0m\u001b[0m\n\u001b[0m",
      "\u001b[1;31mTypeError\u001b[0m: FourCal() takes no arguments"
     ]
    }
   ],
   "source": [
    "o1 = FourCal(100, 200)"
   ]
  },
  {
   "cell_type": "code",
   "execution_count": 61,
   "metadata": {},
   "outputs": [],
   "source": [
    "class FiveCal:\n",
    "    def __init__(self, a, b):\n",
    "        self.mynum = [a,b]\n",
    "    def sum(self):\n",
    "        print(self.mynum[0]+self.mynum[1])\n",
    "    def mul(self):\n",
    "        print(self.mynum[0] * self.mynum[1])\n",
    "    def length(self):\n",
    "        print((self.mynum[0]**2+self.mynum[1]**2)**0.5)"
   ]
  },
  {
   "cell_type": "code",
   "execution_count": 65,
   "metadata": {},
   "outputs": [],
   "source": [
    "o2=FiveCal(100,200)"
   ]
  },
  {
   "cell_type": "code",
   "execution_count": 66,
   "metadata": {},
   "outputs": [
    {
     "name": "stdout",
     "output_type": "stream",
     "text": [
      "300\n"
     ]
    }
   ],
   "source": [
    "o2.sum()"
   ]
  },
  {
   "cell_type": "code",
   "execution_count": 67,
   "metadata": {},
   "outputs": [
    {
     "name": "stdout",
     "output_type": "stream",
     "text": [
      "223.60679774997897\n"
     ]
    }
   ],
   "source": [
    "o2.length()"
   ]
  },
  {
   "cell_type": "code",
   "execution_count": 70,
   "metadata": {},
   "outputs": [],
   "source": [
    "class FourCal:\n",
    "    def __init__(self, a, b): # 괄호로 먼저 변수들을 받아야 함\n",
    "        self.mynum = [a,b]\n",
    "    def sum(self):\n",
    "        print(self.mynum[0]+self.mynum[1])\n",
    "    def mul(self):\n",
    "        print(self.mynum[0]*self.mynum[1])"
   ]
  },
  {
   "cell_type": "code",
   "execution_count": 71,
   "metadata": {
    "scrolled": true
   },
   "outputs": [
    {
     "name": "stdout",
     "output_type": "stream",
     "text": [
      "13\n",
      "40\n"
     ]
    }
   ],
   "source": [
    "o2 = FourCal(5, 8)\n",
    "o2.sum()\n",
    "o2.mul()"
   ]
  },
  {
   "cell_type": "code",
   "execution_count": 74,
   "metadata": {},
   "outputs": [],
   "source": [
    "class FiveCal2(FourCal): # 상속\n",
    "    pass # 다 받음, 없어도 되나봄...\n",
    "    def length(self):\n",
    "        print((self.mynum[0]**2 + self.mynum[1]**2)**0.5)\n"
   ]
  },
  {
   "cell_type": "code",
   "execution_count": 75,
   "metadata": {},
   "outputs": [
    {
     "name": "stdout",
     "output_type": "stream",
     "text": [
      "7\n",
      "5.0\n"
     ]
    }
   ],
   "source": [
    "o2 = FiveCal2(3, 4)\n",
    "o2.sum()\n",
    "o2.length()"
   ]
  },
  {
   "cell_type": "code",
   "execution_count": 115,
   "metadata": {},
   "outputs": [],
   "source": [
    "# 상속 (Inheritance)\n",
    "# length(5,8)=sqrt(5^2 + 8^2)\n",
    "class FiveCal(FourCal):\n",
    "    def length(self):\n",
    "        print((self.mynum[0]**2 + self.mynum[1]**2)**0.5)"
   ]
  },
  {
   "cell_type": "code",
   "execution_count": 78,
   "metadata": {
    "scrolled": false
   },
   "outputs": [
    {
     "name": "stdout",
     "output_type": "stream",
     "text": [
      "5.0\n"
     ]
    }
   ],
   "source": [
    "o3 = FiveCal(3, 4)\n",
    "o3.length()"
   ]
  },
  {
   "cell_type": "code",
   "execution_count": 116,
   "metadata": {},
   "outputs": [
    {
     "name": "stdout",
     "output_type": "stream",
     "text": [
      "7\n"
     ]
    }
   ],
   "source": [
    "o3.sum()"
   ]
  },
  {
   "cell_type": "markdown",
   "metadata": {},
   "source": [
    "* Example 4: Make classes for a rectangle and a triangle\n",
    "\n",
    "The purpose of this exercise is to create classes for rectangle: a rectangle with width W\n",
    ", height H, and lower left corner (x0,y0). Provide three methods: __init__ (to initialize the geometric data), area, and perimeter. "
   ]
  },
  {
   "cell_type": "code",
   "execution_count": 81,
   "metadata": {},
   "outputs": [],
   "source": [
    "class rectangle:\n",
    "    def __init__(self, W, H, LC):\n",
    "        self.width = W\n",
    "        self.height = H\n",
    "        self.leftc = LC\n",
    "    def area(self):\n",
    "        temp = self.width * self.height\n",
    "        return temp\n",
    "    def perimeter(self):\n",
    "        temp = (self.width + self.height)*2\n",
    "        return temp"
   ]
  },
  {
   "cell_type": "code",
   "execution_count": 82,
   "metadata": {},
   "outputs": [],
   "source": [
    "r1 = rectangle(10, 5, [0,3])"
   ]
  },
  {
   "cell_type": "code",
   "execution_count": 83,
   "metadata": {},
   "outputs": [
    {
     "data": {
      "text/plain": [
       "[0, 3]"
      ]
     },
     "execution_count": 83,
     "metadata": {},
     "output_type": "execute_result"
    }
   ],
   "source": [
    "r1.leftc"
   ]
  },
  {
   "cell_type": "code",
   "execution_count": 84,
   "metadata": {},
   "outputs": [
    {
     "data": {
      "text/plain": [
       "30"
      ]
     },
     "execution_count": 84,
     "metadata": {},
     "output_type": "execute_result"
    }
   ],
   "source": [
    "r1.perimeter()"
   ]
  },
  {
   "cell_type": "markdown",
   "metadata": {},
   "source": [
    "* Example 5: "
   ]
  },
  {
   "cell_type": "code",
   "execution_count": 86,
   "metadata": {},
   "outputs": [],
   "source": [
    "class Person:\n",
    "    def __init__(self, fname, lname):\n",
    "        self.firstname = fname\n",
    "        self.lastname = lname\n",
    "\n",
    "    def printname(self):\n",
    "        print(self.firstname, self.lastname)\n"
   ]
  },
  {
   "cell_type": "code",
   "execution_count": 87,
   "metadata": {},
   "outputs": [
    {
     "name": "stdout",
     "output_type": "stream",
     "text": [
      "Michael Jordan\n"
     ]
    }
   ],
   "source": [
    "p1 = Person(\"Jaeyoun\", \"Ahn\")\n",
    "p2 = Person(\"Michael\", \"Jordan\")\n",
    "p2.printname()"
   ]
  },
  {
   "cell_type": "code",
   "execution_count": null,
   "metadata": {},
   "outputs": [],
   "source": [
    "# Create Student Class with additional information (ID)"
   ]
  },
  {
   "cell_type": "code",
   "execution_count": 88,
   "metadata": {},
   "outputs": [],
   "source": [
    "class Student:\n",
    "    def __init__(self, fname, lname, sid):\n",
    "        self.firstname = fname\n",
    "        self.lastname = lname\n",
    "        self.ID = sid\n",
    "    def printname_id(self):\n",
    "        print(self.firstname, self.lastname, self.ID)\n"
   ]
  },
  {
   "cell_type": "code",
   "execution_count": 89,
   "metadata": {},
   "outputs": [],
   "source": [
    "s1 = Student(\"Jaeyoun\", \"Ahn\", \"99328-167\")"
   ]
  },
  {
   "cell_type": "code",
   "execution_count": 90,
   "metadata": {},
   "outputs": [
    {
     "name": "stdout",
     "output_type": "stream",
     "text": [
      "Jaeyoun Ahn 99328-167\n"
     ]
    }
   ],
   "source": [
    "s1.printname_id()"
   ]
  },
  {
   "cell_type": "markdown",
   "metadata": {},
   "source": [
    "### Use the super() Function\n",
    "\n",
    "Python also has a super() function that will make the child class inherit all the methods and properties from its parent:"
   ]
  },
  {
   "cell_type": "markdown",
   "metadata": {},
   "source": [
    "class Student(Person):\n",
    "  def __init__(self, fname, lname, sid):\n",
    "    super().__init__(fname, lname)\n",
    "    self.ID = sid\n",
    "\n",
    "  def printname(self):\n",
    "    super().printname()\n",
    "    print(\"The above person has ID of\", self.ID) "
   ]
  },
  {
   "cell_type": "code",
   "execution_count": 99,
   "metadata": {},
   "outputs": [],
   "source": [
    "class Student(Person): # 상속\n",
    "    def __init__(self, fname, lname, sid):\n",
    "        super().__init__(fname, lname) # 정보를 앞전 함수에 넘겨줌\n",
    "        self.ID=sid\n",
    "    def welcome(self):\n",
    "        super().printname()\n",
    "        print('The above:',self.firstname, self.lastname, self.ID)"
   ]
  },
  {
   "cell_type": "code",
   "execution_count": 100,
   "metadata": {},
   "outputs": [],
   "source": [
    "s1 = Student(\"J\", \"A\", \"99\")"
   ]
  },
  {
   "cell_type": "code",
   "execution_count": 101,
   "metadata": {},
   "outputs": [
    {
     "name": "stdout",
     "output_type": "stream",
     "text": [
      "J A\n"
     ]
    }
   ],
   "source": [
    "s1.printname()"
   ]
  },
  {
   "cell_type": "code",
   "execution_count": 102,
   "metadata": {},
   "outputs": [
    {
     "name": "stdout",
     "output_type": "stream",
     "text": [
      "J A\n",
      "The above: J A 99\n"
     ]
    }
   ],
   "source": [
    "s1.welcome()"
   ]
  },
  {
   "cell_type": "markdown",
   "metadata": {},
   "source": [
    "# Lambda function\n"
   ]
  },
  {
   "cell_type": "code",
   "execution_count": 104,
   "metadata": {},
   "outputs": [
    {
     "name": "stdout",
     "output_type": "stream",
     "text": [
      "15\n"
     ]
    }
   ],
   "source": [
    "x = lambda a : a + 10\n",
    "print(x(5))"
   ]
  },
  {
   "cell_type": "code",
   "execution_count": 105,
   "metadata": {},
   "outputs": [
    {
     "data": {
      "text/plain": [
       "17"
      ]
     },
     "execution_count": 105,
     "metadata": {},
     "output_type": "execute_result"
    }
   ],
   "source": [
    "x(7)"
   ]
  },
  {
   "cell_type": "code",
   "execution_count": 106,
   "metadata": {},
   "outputs": [],
   "source": [
    "def simple_function(a):\n",
    "    return a+10"
   ]
  },
  {
   "cell_type": "code",
   "execution_count": 107,
   "metadata": {},
   "outputs": [
    {
     "data": {
      "text/plain": [
       "30"
      ]
     },
     "execution_count": 107,
     "metadata": {},
     "output_type": "execute_result"
    }
   ],
   "source": [
    "simple_function(20)"
   ]
  },
  {
   "cell_type": "markdown",
   "metadata": {},
   "source": [
    "* Why Lambda function?"
   ]
  },
  {
   "cell_type": "markdown",
   "metadata": {},
   "source": [
    "The power of lambda is better shown when you use them as an anonymous function inside another function.\n",
    "\n",
    "Say you have a function definition that takes one argument, and that argument will be multiplied with an unknown number:"
   ]
  },
  {
   "cell_type": "code",
   "execution_count": 108,
   "metadata": {},
   "outputs": [],
   "source": [
    "def myfunc(n):\n",
    "    return lambda a : a * n"
   ]
  },
  {
   "cell_type": "code",
   "execution_count": 109,
   "metadata": {},
   "outputs": [],
   "source": [
    "mydoubler = myfunc(2)"
   ]
  },
  {
   "cell_type": "code",
   "execution_count": 110,
   "metadata": {},
   "outputs": [
    {
     "name": "stdout",
     "output_type": "stream",
     "text": [
      "22\n"
     ]
    }
   ],
   "source": [
    "print(mydoubler(11))"
   ]
  },
  {
   "cell_type": "code",
   "execution_count": 111,
   "metadata": {},
   "outputs": [
    {
     "name": "stdout",
     "output_type": "stream",
     "text": [
      "33\n"
     ]
    }
   ],
   "source": [
    "mytripler = myfunc(3)\n",
    "print(mytripler(11))"
   ]
  },
  {
   "cell_type": "markdown",
   "metadata": {},
   "source": [
    "Study string: https://www.w3schools.com/python/python_strings.asp"
   ]
  },
  {
   "cell_type": "code",
   "execution_count": 148,
   "metadata": {},
   "outputs": [
    {
     "name": "stdout",
     "output_type": "stream",
     "text": [
      "HELLO, WORLD!\n"
     ]
    }
   ],
   "source": [
    "a = \"Hello, World!\"\n",
    "print(a.upper())"
   ]
  },
  {
   "cell_type": "code",
   "execution_count": 151,
   "metadata": {},
   "outputs": [
    {
     "name": "stdout",
     "output_type": "stream",
     "text": [
      "['Hello', '    World!']\n"
     ]
    }
   ],
   "source": [
    "a = \"Hello,    World!\"\n",
    "print(a.split(\",\"))"
   ]
  },
  {
   "cell_type": "code",
   "execution_count": 170,
   "metadata": {},
   "outputs": [],
   "source": [
    "txt = \"We are the so-called \\\"Vikings\\\" \\n from the north.\""
   ]
  },
  {
   "cell_type": "code",
   "execution_count": 172,
   "metadata": {
    "scrolled": true
   },
   "outputs": [
    {
     "name": "stdout",
     "output_type": "stream",
     "text": [
      "We are the so-called \"Vikings\" \n",
      " from the north.\n"
     ]
    }
   ],
   "source": [
    "print(txt)"
   ]
  },
  {
   "cell_type": "code",
   "execution_count": 173,
   "metadata": {},
   "outputs": [
    {
     "data": {
      "text/plain": [
       "'We are the so-called \"Vikings\" \\n from the north.'"
      ]
     },
     "execution_count": 173,
     "metadata": {},
     "output_type": "execute_result"
    }
   ],
   "source": [
    "txt"
   ]
  },
  {
   "cell_type": "code",
   "execution_count": null,
   "metadata": {},
   "outputs": [],
   "source": []
  }
 ],
 "metadata": {
  "kernelspec": {
   "display_name": "Python 3",
   "language": "python",
   "name": "python3"
  },
  "language_info": {
   "codemirror_mode": {
    "name": "ipython",
    "version": 3
   },
   "file_extension": ".py",
   "mimetype": "text/x-python",
   "name": "python",
   "nbconvert_exporter": "python",
   "pygments_lexer": "ipython3",
   "version": "3.7.7"
  }
 },
 "nbformat": 4,
 "nbformat_minor": 1
}
