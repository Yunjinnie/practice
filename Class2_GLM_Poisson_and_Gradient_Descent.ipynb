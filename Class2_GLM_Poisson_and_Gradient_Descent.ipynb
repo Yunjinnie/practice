{
 "cells": [
  {
   "cell_type": "markdown",
   "metadata": {},
   "source": [
    "## Poisson Regression with boston data"
   ]
  },
  {
   "cell_type": "code",
   "execution_count": 1,
   "metadata": {},
   "outputs": [],
   "source": [
    "import numpy as np \n",
    "import matplotlib.pyplot as plt\n",
    "import seaborn as sns\n",
    "import statsmodels.api as sm"
   ]
  },
  {
   "cell_type": "markdown",
   "metadata": {},
   "source": [
    "### Data manipulation"
   ]
  },
  {
   "cell_type": "code",
   "execution_count": 2,
   "metadata": {
    "scrolled": true
   },
   "outputs": [
    {
     "data": {
      "text/plain": [
       "array(['CRIM', 'ZN', 'INDUS', 'CHAS', 'NOX', 'RM', 'AGE', 'DIS', 'RAD',\n",
       "       'TAX', 'PTRATIO', 'B', 'LSTAT'], dtype='<U7')"
      ]
     },
     "execution_count": 2,
     "metadata": {},
     "output_type": "execute_result"
    }
   ],
   "source": [
    "from sklearn import datasets\n",
    "boston = datasets.load_boston()\n",
    "X_train = boston['data']\n",
    "y_train = boston['target'] #number of car accidents\n",
    "boston.feature_names"
   ]
  },
  {
   "cell_type": "code",
   "execution_count": 3,
   "metadata": {},
   "outputs": [
    {
     "data": {
      "text/plain": [
       "array([6.320e-03, 1.800e+01, 2.310e+00, 0.000e+00, 5.380e-01, 6.575e+00,\n",
       "       6.520e+01, 4.090e+00, 1.000e+00, 2.960e+02, 1.530e+01, 3.969e+02,\n",
       "       4.980e+00])"
      ]
     },
     "execution_count": 3,
     "metadata": {},
     "output_type": "execute_result"
    }
   ],
   "source": [
    "X_train[0, ]\n"
   ]
  },
  {
   "cell_type": "code",
   "execution_count": 4,
   "metadata": {
    "scrolled": true
   },
   "outputs": [],
   "source": [
    "y = np.round_(y_train, decimals=0, out=None) #make into integers"
   ]
  },
  {
   "cell_type": "code",
   "execution_count": 5,
   "metadata": {},
   "outputs": [
    {
     "name": "stdout",
     "output_type": "stream",
     "text": [
      "(506, 13) (506,)\n"
     ]
    }
   ],
   "source": [
    "print(X_train.shape, y.shape)"
   ]
  },
  {
   "cell_type": "markdown",
   "metadata": {},
   "source": [
    "* X_train does not contain the column of 1's. In the following, we add the column of 1's into the model matrix."
   ]
  },
  {
   "cell_type": "code",
   "execution_count": 6,
   "metadata": {},
   "outputs": [
    {
     "name": "stdout",
     "output_type": "stream",
     "text": [
      "(506, 14)\n"
     ]
    }
   ],
   "source": [
    "my_ones = np.ones([506,1])\n",
    "X = np.concatenate((my_ones, X_train), axis=1)\n",
    "print(X.shape)"
   ]
  },
  {
   "cell_type": "code",
   "execution_count": 7,
   "metadata": {},
   "outputs": [],
   "source": [
    "poisson_model = sm.GLM(y, X, family=sm.families.Poisson()) #Find W based on MLE\n",
    "poisson_results = poisson_model.fit();"
   ]
  },
  {
   "cell_type": "code",
   "execution_count": 8,
   "metadata": {},
   "outputs": [
    {
     "name": "stdout",
     "output_type": "stream",
     "text": [
      "                 Generalized Linear Model Regression Results                  \n",
      "==============================================================================\n",
      "Dep. Variable:                      y   No. Observations:                  506\n",
      "Model:                            GLM   Df Residuals:                      492\n",
      "Model Family:                 Poisson   Df Model:                           13\n",
      "Link Function:                    log   Scale:                          1.0000\n",
      "Method:                          IRLS   Log-Likelihood:                -1416.0\n",
      "Date:                Wed, 25 Nov 2020   Deviance:                       362.69\n",
      "Time:                        16:56:45   Pearson chi2:                     389.\n",
      "No. Iterations:                     5                                         \n",
      "Covariance Type:            nonrobust                                         \n",
      "==============================================================================\n",
      "                 coef    std err          z      P>|z|      [0.025      0.975]\n",
      "------------------------------------------------------------------------------\n",
      "const          3.7780      0.232     16.268      0.000       3.323       4.233\n",
      "x1            -0.0103      0.002     -4.699      0.000      -0.015      -0.006\n",
      "x2             0.0010      0.001      1.900      0.057   -3.29e-05       0.002\n",
      "x3             0.0022      0.003      0.829      0.407      -0.003       0.008\n",
      "x4             0.0922      0.035      2.664      0.008       0.024       0.160\n",
      "x5            -0.6932      0.182     -3.812      0.000      -1.050      -0.337\n",
      "x6             0.1225      0.018      6.735      0.000       0.087       0.158\n",
      "x7             0.0004      0.001      0.627      0.531      -0.001       0.002\n",
      "x8            -0.0490      0.009     -5.614      0.000      -0.066      -0.032\n",
      "x9             0.0154      0.003      4.827      0.000       0.009       0.022\n",
      "x10           -0.0005      0.000     -3.114      0.002      -0.001      -0.000\n",
      "x11           -0.0359      0.006     -6.281      0.000      -0.047      -0.025\n",
      "x12            0.0005      0.000      3.195      0.001       0.000       0.001\n",
      "x13           -0.0314      0.003    -12.235      0.000      -0.036      -0.026\n",
      "==============================================================================\n"
     ]
    }
   ],
   "source": [
    "print(poisson_results.summary()) # almost same\n",
    "# gradient descent algorithm working very well"
   ]
  },
  {
   "cell_type": "code",
   "execution_count": null,
   "metadata": {},
   "outputs": [],
   "source": [
    "# coef 비교를 통해 converge 잘 되었는지 비교"
   ]
  },
  {
   "cell_type": "code",
   "execution_count": 9,
   "metadata": {},
   "outputs": [],
   "source": [
    "yhat = poisson_results.mu #prediction for each observation"
   ]
  },
  {
   "cell_type": "code",
   "execution_count": 10,
   "metadata": {},
   "outputs": [],
   "source": [
    "# yhat = poisson_results.predict(X)"
   ]
  },
  {
   "cell_type": "code",
   "execution_count": 10,
   "metadata": {
    "scrolled": true
   },
   "outputs": [
    {
     "data": {
      "text/plain": [
       "16.7256638587818"
      ]
     },
     "execution_count": 10,
     "metadata": {},
     "output_type": "execute_result"
    }
   ],
   "source": [
    "np.mean((y_train-yhat)**2)  #Calculation of MSE"
   ]
  },
  {
   "cell_type": "markdown",
   "metadata": {},
   "source": [
    "* Calculate MSE again!"
   ]
  },
  {
   "cell_type": "code",
   "execution_count": 11,
   "metadata": {},
   "outputs": [],
   "source": [
    "W = poisson_results.params # Estimated parameters"
   ]
  },
  {
   "cell_type": "code",
   "execution_count": 12,
   "metadata": {},
   "outputs": [
    {
     "name": "stdout",
     "output_type": "stream",
     "text": [
      "(506,)\n"
     ]
    },
    {
     "data": {
      "text/plain": [
       "16.7256638587818"
      ]
     },
     "execution_count": 12,
     "metadata": {},
     "output_type": "execute_result"
    }
   ],
   "source": [
    "my_yhat = np.exp(np.dot(X, W) )\n",
    "print(my_yhat.shape)\n",
    "\n",
    "np.mean((y_train-my_yhat)**2)"
   ]
  },
  {
   "cell_type": "markdown",
   "metadata": {},
   "source": [
    "### Draw plot"
   ]
  },
  {
   "cell_type": "code",
   "execution_count": 13,
   "metadata": {
    "scrolled": true
   },
   "outputs": [
    {
     "data": {
      "text/plain": [
       "[<matplotlib.lines.Line2D at 0x26440e5ad08>]"
      ]
     },
     "execution_count": 13,
     "metadata": {},
     "output_type": "execute_result"
    },
    {
     "data": {
      "image/png": "[encoded data removed]",
      "text/plain": [
       "<Figure size 432x288 with 1 Axes>"
      ]
     },
     "metadata": {
      "needs_background": "light"
     },
     "output_type": "display_data"
    }
   ],
   "source": [
    "import matplotlib.pyplot as plt\n",
    "plt.plot(yhat,y_train, 'o')\n",
    "plt.plot([0, 60], [0,60], 'r-')"
   ]
  },
  {
   "cell_type": "markdown",
   "metadata": {},
   "source": [
    "## Optimization based on Gradient Dsecent"
   ]
  },
  {
   "cell_type": "code",
   "execution_count": 14,
   "metadata": {},
   "outputs": [
    {
     "name": "stderr",
     "output_type": "stream",
     "text": [
      "C:\\anaconda3\\envs\\env\\lib\\site-packages\\ipykernel_launcher.py:1: RuntimeWarning: invalid value encountered in true_divide\n",
      "  \"\"\"Entry point for launching an IPython kernel.\n"
     ]
    }
   ],
   "source": [
    "XX=(X-X.mean(axis=0))/np.std(X, axis=0)\n",
    "# GD algorithm을 쓰려면 X standardized를 해줘야 함"
   ]
  },
  {
   "cell_type": "code",
   "execution_count": 15,
   "metadata": {},
   "outputs": [],
   "source": [
    "XX[:,0]=1"
   ]
  },
  {
   "cell_type": "code",
   "execution_count": 16,
   "metadata": {},
   "outputs": [
    {
     "data": {
      "text/plain": [
       "(506, 1)"
      ]
     },
     "execution_count": 16,
     "metadata": {},
     "output_type": "execute_result"
    }
   ],
   "source": [
    "Y=y.reshape([506,1])\n",
    "Y.shape"
   ]
  },
  {
   "cell_type": "code",
   "execution_count": 17,
   "metadata": {},
   "outputs": [],
   "source": [
    "import scipy"
   ]
  },
  {
   "cell_type": "code",
   "execution_count": 18,
   "metadata": {},
   "outputs": [],
   "source": [
    "def f(beta, X, Y): # this is -1 (beta)\n",
    "    temp = np.exp(np.dot(X,beta))-Y*np.dot(X, beta)+scipy.special.gammaln(Y+1)\n",
    "    return np.sum(temp)\n",
    "\n",
    "def df(beta, X, Y): \n",
    "    # in actual data analysis, using tensorflow, df is freely obtained from f function, derivative(f)\n",
    "    temp = np.exp(np.dot(X,beta))-Y\n",
    "    temp2 = np.mean(X*temp, axis=0)\n",
    "    return temp2.reshape([14,1])"
   ]
  },
  {
   "cell_type": "code",
   "execution_count": 19,
   "metadata": {},
   "outputs": [],
   "source": [
    "beta0=np.random.normal(0,1,[14,1]) # 설명 변수 13개와 intercept 1개 -> 14개\n",
    "lr=0.001\n",
    "iter1=5000 # iteration : 5000 -> # of data in each iteration : 506\n",
    "# of total data -> 5000 * 506\n",
    "beta=beta0\n",
    "history=np.ones([iter1,])\n",
    "for i in range(0,iter1):\n",
    "    beta = beta - lr * df(beta, XX, Y)\n",
    "    history[i]=f(beta, XX, Y)\n",
    "    #print(\"************************\",  i, \"**********************\",    beta)"
   ]
  },
  {
   "cell_type": "code",
   "execution_count": 20,
   "metadata": {},
   "outputs": [
    {
     "data": {
      "text/plain": [
       "[<matplotlib.lines.Line2D at 0x26442023188>]"
      ]
     },
     "execution_count": 20,
     "metadata": {},
     "output_type": "execute_result"
    },
    {
     "data": {
      "image/png": "[encoded data removed]",
      "text/plain": [
       "<Figure size 432x288 with 1 Axes>"
      ]
     },
     "metadata": {
      "needs_background": "light"
     },
     "output_type": "display_data"
    }
   ],
   "source": [
    "import matplotlib.pyplot as plt\n",
    "plt.plot(history[:]) \n",
    "# learning curve - flat : learning is over when 1000\n",
    "# x축 : iteration number\n",
    "# negative라서 값이 작을 수록 좋음"
   ]
  },
  {
   "cell_type": "code",
   "execution_count": 21,
   "metadata": {},
   "outputs": [
    {
     "data": {
      "text/plain": [
       "array([[ 3.04868941],\n",
       "       [-0.08842327],\n",
       "       [ 0.02424911],\n",
       "       [ 0.01497295],\n",
       "       [ 0.02345328],\n",
       "       [-0.08017817],\n",
       "       [ 0.08606746],\n",
       "       [ 0.01027125],\n",
       "       [-0.1031129 ],\n",
       "       [ 0.13286395],\n",
       "       [-0.08893659],\n",
       "       [-0.07750647],\n",
       "       [ 0.04368704],\n",
       "       [-0.22409618]])"
      ]
     },
     "execution_count": 21,
     "metadata": {},
     "output_type": "execute_result"
    }
   ],
   "source": [
    "beta # coef"
   ]
  },
  {
   "cell_type": "code",
   "execution_count": 22,
   "metadata": {
    "scrolled": true
   },
   "outputs": [
    {
     "data": {
      "text/plain": [
       "1416.0175012993686"
      ]
     },
     "execution_count": 22,
     "metadata": {},
     "output_type": "execute_result"
    }
   ],
   "source": [
    "f(beta, XX, Y)"
   ]
  },
  {
   "cell_type": "code",
   "execution_count": 23,
   "metadata": {},
   "outputs": [],
   "source": [
    "my_yhat = np.exp(np.dot(X, W) )\n",
    "my_yhat2 = np.exp(np.dot(XX, beta) )"
   ]
  },
  {
   "cell_type": "code",
   "execution_count": 24,
   "metadata": {
    "scrolled": true
   },
   "outputs": [
    {
     "data": {
      "text/plain": [
       "array([24.69482883, 31.57108125, 29.83295113, 28.29189   , 26.02959171,\n",
       "       22.14341111, 18.13403117, 11.96775387, 18.19758204])"
      ]
     },
     "execution_count": 24,
     "metadata": {},
     "output_type": "execute_result"
    }
   ],
   "source": [
    "my_yhat[1:10]"
   ]
  },
  {
   "cell_type": "code",
   "execution_count": 25,
   "metadata": {},
   "outputs": [
    {
     "data": {
      "text/plain": [
       "array([[24.69238147],\n",
       "       [31.57105001],\n",
       "       [29.83301505],\n",
       "       [28.29224977],\n",
       "       [26.02757543],\n",
       "       [22.13989725],\n",
       "       [18.13077489],\n",
       "       [11.96538175],\n",
       "       [18.19394065]])"
      ]
     },
     "execution_count": 25,
     "metadata": {},
     "output_type": "execute_result"
    }
   ],
   "source": [
    "my_yhat2[1:10]"
   ]
  },
  {
   "cell_type": "markdown",
   "metadata": {},
   "source": [
    "## Mini Batch Learning"
   ]
  },
  {
   "cell_type": "code",
   "execution_count": null,
   "metadata": {},
   "outputs": [],
   "source": [
    "# gradient descent의 문제점 : local minimum (지역 최적화)\n",
    "# local minimum에서 빠져나오기 위해 mini batch learning을 실행 \n",
    "# random chosen five i\n",
    "# gradient log f ... iteratation : 5000\n",
    "# # of data in each iter : 5 -> randomly chosen number\n",
    "# # of total data : 5000*5\n",
    "# 데이터 수만 보면 gradient descent가 더 정확함, local minimum에 빠질 수 있다는 문제에도 ...\n",
    "\n",
    "# New concept : 'epoch' ... 데이터의 바퀴 수\n",
    "# important ! how choose all of data\n",
    "# # of data 506\n",
    "# in Mini batch, iter : 100, # of data used in each iteration : 10\n",
    "# # of toal data : 100*10 = 1000 data -> this can be regarded as 2 iterations in GD\n",
    "# -> 여기서 epoch은 2가 됨\n",
    "\n",
    "# efficiency of mini batch -> total number of data, 훨씬 빠름\n",
    "# meaning of epoch -> how many times each observation is used?\n",
    "# = on average, each data is used two times\n",
    "# 506 * 10 = 5000개 data \n",
    "# mini batch에서는 데이터를 10개씩 씀 (batch size)\n",
    "# full gradient descent에서 정의한 후 iteration 뒤에 몇 개의 data가 쓰였는지\n",
    "# 500개 각각의 데이터가 두 번 씩 쓰였다는 의미 : epoch = 2"
   ]
  },
  {
   "cell_type": "code",
   "execution_count": 26,
   "metadata": {},
   "outputs": [
    {
     "data": {
      "text/plain": [
       "15000"
      ]
     },
     "execution_count": 26,
     "metadata": {},
     "output_type": "execute_result"
    }
   ],
   "source": [
    "epoch=1000\n",
    "lr=0.001\n",
    "# # of data : 506\n",
    "batch_size=32 # number of data used in each iteration : should be 2^n\n",
    "# Q : how iteration do you want to have to achieve 1000 epoch?\n",
    "# 32 batch size * iteration = 1000*506 (epoch* data)\n",
    "# iteration = epoch*data/batch size (integer)\n",
    "\n",
    "iter_per_epoch = np.array(506/batch_size).astype(int)\n",
    "iter_num = epoch* iter_per_epoch\n",
    "iter_num"
   ]
  },
  {
   "cell_type": "code",
   "execution_count": 29,
   "metadata": {},
   "outputs": [
    {
     "data": {
      "text/plain": [
       "array(15)"
      ]
     },
     "execution_count": 29,
     "metadata": {},
     "output_type": "execute_result"
    }
   ],
   "source": [
    "iter_per_epoch # 15번 iter * 32 batch = 500 data\n",
    "# 15000/1000"
   ]
  },
  {
   "cell_type": "code",
   "execution_count": 108,
   "metadata": {},
   "outputs": [
    {
     "data": {
      "text/plain": [
       "3"
      ]
     },
     "execution_count": 108,
     "metadata": {},
     "output_type": "execute_result"
    }
   ],
   "source": [
    "33%10"
   ]
  },
  {
   "cell_type": "code",
   "execution_count": 27,
   "metadata": {},
   "outputs": [],
   "source": [
    "history=np.ones([epoch,])\n",
    "beta0=np.random.normal(0,1,[14,1])\n",
    "ii=0\n",
    "beta=beta0\n",
    "# per each iter, history save -> 15000번 마다 저장\n",
    "# per each epoch, history save -> 15번 마다 저장 *32 = 500개 데이터\n",
    "for i in range(0, iter_num):\n",
    "    my_batch = np.random.choice(506, batch_size) # 506개 중에서 32개 난수 뽑음\n",
    "    beta = beta - lr * df(beta, XX[my_batch, :], Y[my_batch, :]) # 행에 삽입\n",
    "    if i%iter_per_epoch == 0:\n",
    "        history[ii]=f(beta, XX, Y) # 실제 알고리즘에서 사용 x - 계산 안해도됨\n",
    "        ii=ii+1\n",
    "        # calculate f -> this takes some type"
   ]
  },
  {
   "cell_type": "code",
   "execution_count": null,
   "metadata": {},
   "outputs": [],
   "source": [
    "# sigma -> 1부터 500개까지 사용하면 gd, 여기서 랜덤하게 x matrix, y matrix를 사용해서 리턴하는 것이 mini batch\n",
    "# -> 모든 행을 다 넣어주지 않고 해당하는 만큼의 log likelihood를 계산해서 돌려줌\n",
    "# my batch : 난수 뽑는 것"
   ]
  },
  {
   "cell_type": "code",
   "execution_count": 28,
   "metadata": {},
   "outputs": [
    {
     "data": {
      "text/plain": [
       "[<matplotlib.lines.Line2D at 0x26442096488>]"
      ]
     },
     "execution_count": 28,
     "metadata": {},
     "output_type": "execute_result"
    },
    {
     "data": {
      "image/png": "[encoded data removed]",
      "text/plain": [
       "<Figure size 432x288 with 1 Axes>"
      ]
     },
     "metadata": {
      "needs_background": "light"
     },
     "output_type": "display_data"
    }
   ],
   "source": [
    "import matplotlib.pyplot as plt\n",
    "plt.plot(history[:])"
   ]
  },
  {
   "cell_type": "code",
   "execution_count": 111,
   "metadata": {},
   "outputs": [
    {
     "data": {
      "text/plain": [
       "1417.161109014909"
      ]
     },
     "execution_count": 111,
     "metadata": {},
     "output_type": "execute_result"
    }
   ],
   "source": [
    "history[-1]"
   ]
  },
  {
   "cell_type": "code",
   "execution_count": null,
   "metadata": {},
   "outputs": [],
   "source": [
    "# beta 잘 학습됨"
   ]
  }
 ],
 "metadata": {
  "anaconda-cloud": {},
  "kernelspec": {
   "display_name": "Python 3",
   "language": "python",
   "name": "python3"
  },
  "language_info": {
   "codemirror_mode": {
    "name": "ipython",
    "version": 3
   },
   "file_extension": ".py",
   "mimetype": "text/x-python",
   "name": "python",
   "nbconvert_exporter": "python",
   "pygments_lexer": "ipython3",
   "version": "3.7.7"
  }
 },
 "nbformat": 4,
 "nbformat_minor": 1
}
